{
 "cells": [
  {
   "cell_type": "markdown",
   "id": "1c70fa63-b796-4b94-b670-0e98bb66a5a1",
   "metadata": {},
   "source": [
    "# Error Estimation\n",
    "\n",
    "In this notebook, we will implement and test **error estimation approaches** for evaluating classifiers and/or learning algorithms.\n",
    "\n",
    "At the start, we will implement the $k$-fold cross-validation with and without stratification.\n",
    "\n",
    "Subsequently, we will use the nested $k$-fold cross-validation on an exemplary dataset to perform model selection.\n",
    "\n",
    "### **Table of Contents**\n",
    "1. [$k$-fold Cross-alidation](#k-fold-cross-validation)\n",
    "2. [Model Selection](#model-selection)"
   ]
  },
  {
   "cell_type": "code",
   "execution_count": 3,
   "id": "3cbb5690-6d49-42df-bf4b-db120f76c893",
   "metadata": {},
   "outputs": [
    {
     "name": "stdout",
     "output_type": "stream",
     "text": [
      "The autoreload extension is already loaded. To reload it, use:\n",
      "  %reload_ext autoreload\n"
     ]
    }
   ],
   "source": [
    "%load_ext autoreload\n",
    "%autoreload 2\n",
    "\n",
    "import matplotlib.pyplot as plt\n",
    "import numpy as np"
   ]
  },
  {
   "cell_type": "markdown",
   "id": "8aee2541",
   "metadata": {},
   "source": [
    "### **1. $k$-fold Cross-validation** <a class=\"anchor\" id=\"k-fold-cross-validation\"></a>\n",
    "\n",
    "We implement the function [`cross_validation`](../e2ml/evaluation/_error_estimation.py) in the [`e2ml.evaluation`](../e2ml/evaluation) subpackage. Once, the implementation has been completed, we visualize and compare the standard and stratified cross-validation."
   ]
  },
  {
   "cell_type": "code",
   "execution_count": 10,
   "id": "089c5c9b",
   "metadata": {},
   "outputs": [
    {
     "data": {
      "image/png": "[encoded data removed]",
      "text/plain": [
       "<Figure size 640x480 with 1 Axes>"
      ]
     },
     "metadata": {},
     "output_type": "display_data"
    },
    {
     "data": {
      "image/png": "[encoded data removed]",
      "text/plain": [
       "<Figure size 640x480 with 1 Axes>"
      ]
     },
     "metadata": {},
     "output_type": "display_data"
    }
   ],
   "source": [
    "from e2ml.evaluation import cross_validation\n",
    "# Generate articial class labels.\n",
    "y = np.zeros(100)\n",
    "sample_indices = np.arange(len(y), dtype=int)\n",
    "y[30:90] = 1\n",
    "y[90:] = 2\n",
    "\n",
    "# Visualize standard (k=3)-fold cross validation via a bar plot showing the\n",
    "# class distribution within each fold.\n",
    "train, test = cross_validation(sample_indices=sample_indices, n_folds=3, random_state=0)\n",
    "\n",
    "class_disstribution = []\n",
    "for i, class_y in enumerate(np.unique(y)):\n",
    "    y_values = []\n",
    "    for t in test:\n",
    "        y_values.append(np.sum(y[t] == class_y))\n",
    "    class_disstribution.append(y_values)\n",
    "    plt.bar(np.arange(len(test)), y_values, bottom=np.sum(np.array(class_disstribution)[:i], axis=0))\n",
    "    plt.xticks([0,1,2])\n",
    "\n",
    "plt.show()\n",
    "\n",
    "# Visualize stratified (k=3)-fold cross validation via a bar plot showing the class\n",
    "# distribution within each fold.\n",
    "train, test = cross_validation(sample_indices=sample_indices, n_folds=3, random_state=0, y=y)\n",
    "\n",
    "class_disstribution = []\n",
    "for i, class_y in enumerate(np.unique(y)):\n",
    "    y_values = []\n",
    "    for t in test:\n",
    "        y_values.append(np.sum(y[t] == class_y))\n",
    "    class_disstribution.append(y_values)\n",
    "    plt.bar(np.arange(len(test)), y_values, bottom=np.sum(np.array(class_disstribution)[:i], axis=0))\n",
    "    plt.xticks([0,1,2])\n",
    "\n",
    "plt.show()\n"
   ]
  },
  {
   "cell_type": "markdown",
   "id": "725e4210",
   "metadata": {},
   "source": [
    "### **2. Model Selection** <a class=\"anchor\" id=\"model-selection\"></a>\n",
    "\n",
    "In the follwing, we perform a small evaluation study including a model selection. Our goal is to compare the learning algorithm of a [*support vector classifier*](https://scikit-learn.org/stable/modules/generated/sklearn.svm.SVC.html#sklearn.svm.SVC) (SVC) and a [*multi-layer perceptron*](https://scikit-learn.org/stable/modules/generated/sklearn.neural_network.MLPClassifier.html#sklearn.neural_network.MLPClassifier) (MLP) on the data set [*breast cancer*](https://scikit-learn.org/stable/modules/generated/sklearn.datasets.load_breast_cancer.html#sklearn.datasets.load_breast_cancer). We generate in each run 20 hyperparameter configurations according to one of the popular experimentation methods. Studied hyperparamters are the regularization parameter $C \\in (0, 1000)$ (`C`) and the so-called bandwidth $\\gamma \\in (0, 1]$ (`gamma`) for the SVC, while the learning rate $\\eta \\in (0, 1]$ (`learning_rate_init`) and another regularization parameter $\\alpha \\in (0, 1)$ (`alpha`) are studied for the MLP. Further, we use a nested stratified $k=5$-folded cross-valdiation as error-estimation approach. The zero-one loss serves as performance measure to report the emprical mean and standard deviation of the risk estimates."
   ]
  },
  {
   "cell_type": "code",
   "execution_count": 14,
   "id": "74e73d1f",
   "metadata": {},
   "outputs": [
    {
     "name": "stdout",
     "output_type": "stream",
     "text": [
      "SVC Performance: 0.04044403043005744 +- 0.00907454171334114\n",
      "MLP Performance: 0.02462350566682192 +- 0.008671316122652348\n"
     ]
    }
   ],
   "source": [
    "from sklearn.svm import SVC\n",
    "from sklearn.neural_network import MLPClassifier\n",
    "from sklearn.datasets import load_breast_cancer\n",
    "\n",
    "# Load breast cancer data set.\n",
    "X, y = load_breast_cancer(return_X_y=True)\n",
    "\n",
    "# Perform evaluation study.\n",
    "\n",
    "# Imports\n",
    "from e2ml.experimentation import halton\n",
    "from e2ml.preprocessing import StandardScaler\n",
    "from e2ml.evaluation import zero_one_loss\n",
    "\n",
    "# Define parameters\n",
    "C_upper = 1000\n",
    "C_lower = 0\n",
    "gamma_upper = 1\n",
    "gamma_lower = 0\n",
    "lr_upper = 1\n",
    "lr_lower = 0\n",
    "alpha_upper = 1\n",
    "alpha_lower = 0\n",
    "\n",
    "# Hyperparamter configurations (doe method)\n",
    "theta_svc_list = halton(n_samples=20, n_dimensions=2, bounds=[(C_lower, C_upper), (gamma_lower, gamma_upper)])\n",
    "theta_mlp_list = halton(n_samples=20, n_dimensions=2, bounds=[(lr_lower, lr_upper), (alpha_lower, alpha_upper)])\n",
    "\n",
    "# Init helper variables\n",
    "risks_svc_outer, risks_mlp_outer = [], []\n",
    "\n",
    "# Cross-Validation\n",
    "n_folds = 5\n",
    "sample_indices = np.arange(len(y), dtype=int)\n",
    "train_outer, test_outer = cross_validation(\n",
    "    sample_indices=sample_indices,\n",
    "    n_folds=n_folds,\n",
    "    y=y,\n",
    "    random_state=0\n",
    ")\n",
    "\n",
    "# Outer k-fold loop, result: test and 'rest' set\n",
    "for tr_outer, te_outer in zip(train_outer, test_outer):\n",
    "    # cross_validation\n",
    "    train_inner, validation_inner = cross_validation(\n",
    "        sample_indices=tr_outer,\n",
    "        n_folds=n_folds,\n",
    "        y=y[tr_outer],\n",
    "        random_state=0\n",
    "    )\n",
    "\n",
    "    # Initial best hyperparameters and risk estimates\n",
    "    theta_star_svc, theta_star_mlp = None, None\n",
    "    minimum_risk_svc, minimum_risk_mlp = 1, 1\n",
    "\n",
    "    # Hyperparameter loop\n",
    "    for theta_svc, theta_mlp in zip(theta_svc_list, theta_mlp_list):\n",
    "        risks_svc_inner, risks_mlp_inner = [], []\n",
    "\n",
    "        # Inner k-fold loop, result: val and train set\n",
    "        for tr_inner, val_inner in zip(train_inner, validation_inner):\n",
    "            # Data preprocessing\n",
    "            sc_inner = StandardScaler()\n",
    "            sc_inner.fit(X[tr_inner])\n",
    "            X_tr_inner = sc_inner.transform(X[tr_inner])\n",
    "            X_val_inner = sc_inner.transform(X[val_inner])\n",
    "\n",
    "            # Init classifier\n",
    "            svc_inner = SVC(\n",
    "                C=theta_svc[0],\n",
    "                gamma=theta_svc[1],\n",
    "                random_state=0\n",
    "            )\n",
    "            svc_inner.fit(X_tr_inner, y[tr_inner])\n",
    "\n",
    "            mlp_inner = MLPClassifier(\n",
    "                learning_rate_init=theta_mlp[0],\n",
    "                alpha=theta_mlp[1],\n",
    "                random_state=0\n",
    "            )\n",
    "            mlp_inner.fit(X_tr_inner, y[tr_inner])  \n",
    "\n",
    "            # Evaluate classifier (on val set)\n",
    "            y_pred_svc = svc_inner.predict(X_val_inner)\n",
    "            risks_svc_inner.append(zero_one_loss(y_pred=y_pred_svc, y_true=y[val_inner]))\n",
    "\n",
    "            y_pred_mlp = mlp_inner.predict(X_val_inner)\n",
    "            risks_mlp_inner.append(zero_one_loss(y_pred=y_pred_mlp, y_true=y[val_inner]))\n",
    "        \n",
    "        # Update hyperparameter configs\n",
    "        if np.mean(risks_svc_inner) <= minimum_risk_svc:\n",
    "            theta_star_svc = theta_svc\n",
    "            minimum_risk_svc = np.mean(risks_svc_inner)\n",
    "\n",
    "        if np.mean(risks_mlp_inner) <= minimum_risk_mlp:\n",
    "            theta_star_mlp = theta_mlp\n",
    "            minimum_risk_mlp = np.mean(risks_mlp_inner)\n",
    "\n",
    "\n",
    "    # Data preprocessing\n",
    "    sc_outer = StandardScaler()\n",
    "    sc_outer.fit(X[tr_outer])\n",
    "    X_tr_outer = sc_outer.transform(X[tr_outer])\n",
    "    X_te_outer = sc_outer.transform(X[te_outer])\n",
    "\n",
    "    # Fit classifier (on train + val set)\n",
    "    svc_outer = SVC(\n",
    "        C=theta_star_svc[0],\n",
    "        gamma=theta_star_svc[1],\n",
    "        random_state=0\n",
    "    )\n",
    "    svc_outer.fit(X_tr_outer, y[tr_outer])\n",
    "\n",
    "    mlp_outer = MLPClassifier(\n",
    "        learning_rate_init=theta_star_mlp[0],\n",
    "        alpha=theta_star_mlp[1],\n",
    "        random_state=0\n",
    "    )\n",
    "    mlp_outer.fit(X_tr_outer, y[tr_outer])\n",
    "\n",
    "    # Evaluate classifier (on test set (te_outer))\n",
    "    y_pred_svc = svc_outer.predict(X_te_outer)\n",
    "    risks_svc_outer.append(zero_one_loss(y_pred=y_pred_svc, y_true=y[te_outer]))\n",
    "\n",
    "    y_pred_mlp = mlp_outer.predict(X_te_outer)\n",
    "    risks_mlp_outer.append(zero_one_loss(y_pred=y_pred_mlp, y_true=y[te_outer]))\n",
    "\n",
    "print(f'SVC Performance: {np.mean(risks_svc_outer)} +- {np.std(risks_svc_outer)}')\n",
    "print(f'MLP Performance: {np.mean(risks_mlp_outer)} +- {np.std(risks_mlp_outer)}')"
   ]
  }
 ],
 "metadata": {
  "kernelspec": {
   "display_name": "Python 3 (ipykernel)",
   "language": "python",
   "name": "python3"
  },
  "language_info": {
   "codemirror_mode": {
    "name": "ipython",
    "version": 3
   },
   "file_extension": ".py",
   "mimetype": "text/x-python",
   "name": "python",
   "nbconvert_exporter": "python",
   "pygments_lexer": "ipython3",
   "version": "3.9.16"
  }
 },
 "nbformat": 4,
 "nbformat_minor": 5
}
