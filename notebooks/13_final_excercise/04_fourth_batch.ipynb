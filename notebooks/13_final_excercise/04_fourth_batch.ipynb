{
 "cells": [
  {
   "cell_type": "code",
   "execution_count": 36,
   "metadata": {},
   "outputs": [],
   "source": [
    "import pandas as pd\n",
    "import numpy as np\n",
    "import matplotlib.pyplot as plt"
   ]
  },
  {
   "cell_type": "code",
   "execution_count": 2,
   "metadata": {},
   "outputs": [
    {
     "data": {
      "text/html": [
       "<div>\n",
       "<style scoped>\n",
       "    .dataframe tbody tr th:only-of-type {\n",
       "        vertical-align: middle;\n",
       "    }\n",
       "\n",
       "    .dataframe tbody tr th {\n",
       "        vertical-align: top;\n",
       "    }\n",
       "\n",
       "    .dataframe thead th {\n",
       "        text-align: right;\n",
       "    }\n",
       "</style>\n",
       "<table border=\"1\" class=\"dataframe\">\n",
       "  <thead>\n",
       "    <tr style=\"text-align: right;\">\n",
       "      <th></th>\n",
       "      <th>Sex</th>\n",
       "      <th>Length</th>\n",
       "      <th>Width</th>\n",
       "      <th>Height</th>\n",
       "      <th>Weight</th>\n",
       "      <th>Non_Shell Weight</th>\n",
       "      <th>Intestine Weight</th>\n",
       "      <th>Shell Weight</th>\n",
       "      <th>Stage of Life</th>\n",
       "    </tr>\n",
       "  </thead>\n",
       "  <tbody>\n",
       "    <tr>\n",
       "      <th>0</th>\n",
       "      <td>F</td>\n",
       "      <td>0.450000</td>\n",
       "      <td>0.345000</td>\n",
       "      <td>0.120000</td>\n",
       "      <td>0.416500</td>\n",
       "      <td>0.165500</td>\n",
       "      <td>0.095000</td>\n",
       "      <td>0.135000</td>\n",
       "      <td>Adult</td>\n",
       "    </tr>\n",
       "    <tr>\n",
       "      <th>1</th>\n",
       "      <td>F</td>\n",
       "      <td>0.475000</td>\n",
       "      <td>0.380000</td>\n",
       "      <td>0.145000</td>\n",
       "      <td>0.570000</td>\n",
       "      <td>0.167000</td>\n",
       "      <td>0.118000</td>\n",
       "      <td>0.187000</td>\n",
       "      <td>Adole</td>\n",
       "    </tr>\n",
       "    <tr>\n",
       "      <th>2</th>\n",
       "      <td>M</td>\n",
       "      <td>0.610000</td>\n",
       "      <td>0.485000</td>\n",
       "      <td>0.170000</td>\n",
       "      <td>1.022500</td>\n",
       "      <td>0.419000</td>\n",
       "      <td>0.240500</td>\n",
       "      <td>0.360000</td>\n",
       "      <td>Adult</td>\n",
       "    </tr>\n",
       "    <tr>\n",
       "      <th>3</th>\n",
       "      <td>I</td>\n",
       "      <td>0.430000</td>\n",
       "      <td>0.340000</td>\n",
       "      <td>0.105000</td>\n",
       "      <td>0.440500</td>\n",
       "      <td>0.238500</td>\n",
       "      <td>0.074500</td>\n",
       "      <td>0.107500</td>\n",
       "      <td>Adole</td>\n",
       "    </tr>\n",
       "    <tr>\n",
       "      <th>4</th>\n",
       "      <td>M</td>\n",
       "      <td>0.205000</td>\n",
       "      <td>0.155000</td>\n",
       "      <td>0.045000</td>\n",
       "      <td>0.042500</td>\n",
       "      <td>0.017000</td>\n",
       "      <td>0.005500</td>\n",
       "      <td>0.015500</td>\n",
       "      <td>Adult</td>\n",
       "    </tr>\n",
       "    <tr>\n",
       "      <th>...</th>\n",
       "      <td>...</td>\n",
       "      <td>...</td>\n",
       "      <td>...</td>\n",
       "      <td>...</td>\n",
       "      <td>...</td>\n",
       "      <td>...</td>\n",
       "      <td>...</td>\n",
       "      <td>...</td>\n",
       "      <td>...</td>\n",
       "    </tr>\n",
       "    <tr>\n",
       "      <th>245</th>\n",
       "      <td>F</td>\n",
       "      <td>0.451517</td>\n",
       "      <td>0.361390</td>\n",
       "      <td>0.179445</td>\n",
       "      <td>1.116550</td>\n",
       "      <td>0.341987</td>\n",
       "      <td>0.168137</td>\n",
       "      <td>0.197931</td>\n",
       "      <td>Adult</td>\n",
       "    </tr>\n",
       "    <tr>\n",
       "      <th>246</th>\n",
       "      <td>M</td>\n",
       "      <td>0.548575</td>\n",
       "      <td>0.410346</td>\n",
       "      <td>0.100520</td>\n",
       "      <td>1.203506</td>\n",
       "      <td>0.381207</td>\n",
       "      <td>0.181965</td>\n",
       "      <td>0.214180</td>\n",
       "      <td>Adult</td>\n",
       "    </tr>\n",
       "    <tr>\n",
       "      <th>247</th>\n",
       "      <td>I</td>\n",
       "      <td>0.645632</td>\n",
       "      <td>0.459303</td>\n",
       "      <td>0.113995</td>\n",
       "      <td>1.290461</td>\n",
       "      <td>0.420427</td>\n",
       "      <td>0.195794</td>\n",
       "      <td>0.230429</td>\n",
       "      <td>Adult</td>\n",
       "    </tr>\n",
       "    <tr>\n",
       "      <th>248</th>\n",
       "      <td>M</td>\n",
       "      <td>0.397597</td>\n",
       "      <td>0.508259</td>\n",
       "      <td>0.127470</td>\n",
       "      <td>1.377416</td>\n",
       "      <td>0.459647</td>\n",
       "      <td>0.209623</td>\n",
       "      <td>0.246679</td>\n",
       "      <td>Adult</td>\n",
       "    </tr>\n",
       "    <tr>\n",
       "      <th>249</th>\n",
       "      <td>F</td>\n",
       "      <td>0.494654</td>\n",
       "      <td>0.322225</td>\n",
       "      <td>0.140945</td>\n",
       "      <td>1.464372</td>\n",
       "      <td>0.498868</td>\n",
       "      <td>0.223451</td>\n",
       "      <td>0.262928</td>\n",
       "      <td>Adole</td>\n",
       "    </tr>\n",
       "  </tbody>\n",
       "</table>\n",
       "<p>766 rows × 9 columns</p>\n",
       "</div>"
      ],
      "text/plain": [
       "    Sex    Length     Width    Height    Weight  Non_Shell Weight  \\\n",
       "0     F  0.450000  0.345000  0.120000  0.416500          0.165500   \n",
       "1     F  0.475000  0.380000  0.145000  0.570000          0.167000   \n",
       "2     M  0.610000  0.485000  0.170000  1.022500          0.419000   \n",
       "3     I  0.430000  0.340000  0.105000  0.440500          0.238500   \n",
       "4     M  0.205000  0.155000  0.045000  0.042500          0.017000   \n",
       "..   ..       ...       ...       ...       ...               ...   \n",
       "245   F  0.451517  0.361390  0.179445  1.116550          0.341987   \n",
       "246   M  0.548575  0.410346  0.100520  1.203506          0.381207   \n",
       "247   I  0.645632  0.459303  0.113995  1.290461          0.420427   \n",
       "248   M  0.397597  0.508259  0.127470  1.377416          0.459647   \n",
       "249   F  0.494654  0.322225  0.140945  1.464372          0.498868   \n",
       "\n",
       "     Intestine Weight  Shell Weight Stage of Life  \n",
       "0            0.095000      0.135000         Adult  \n",
       "1            0.118000      0.187000         Adole  \n",
       "2            0.240500      0.360000         Adult  \n",
       "3            0.074500      0.107500         Adole  \n",
       "4            0.005500      0.015500         Adult  \n",
       "..                ...           ...           ...  \n",
       "245          0.168137      0.197931         Adult  \n",
       "246          0.181965      0.214180         Adult  \n",
       "247          0.195794      0.230429         Adult  \n",
       "248          0.209623      0.246679         Adult  \n",
       "249          0.223451      0.262928         Adole  \n",
       "\n",
       "[766 rows x 9 columns]"
      ]
     },
     "execution_count": 2,
     "metadata": {},
     "output_type": "execute_result"
    }
   ],
   "source": [
    "# Load new batch and concat with initial data\n",
    "batch_1 = pd.read_csv('../../data/batch1_albayrak_labels.csv')\n",
    "batch_2 = pd.read_csv('../../data/batch2_albayrak_labels.csv')\n",
    "batch_3 = pd.read_csv('../../data/batch3_albayrak_labels.csv')\n",
    "initial_molluscs_data = pd.read_csv('../../data/initial_molluscs_data.csv')\n",
    "molluscs_df = pd.concat([initial_molluscs_data, batch_1, batch_2, batch_3])\n",
    "\n",
    "molluscs_df"
   ]
  },
  {
   "cell_type": "code",
   "execution_count": 3,
   "metadata": {},
   "outputs": [
    {
     "data": {
      "image/png": "[encoded data removed]",
      "text/plain": [
       "<Figure size 1200x400 with 3 Axes>"
      ]
     },
     "metadata": {},
     "output_type": "display_data"
    }
   ],
   "source": [
    "# Explore new data\n",
    "life_stages = ['Child', 'Adole', 'Adult']\n",
    "sexes = ['M', 'F', 'I']\n",
    "\n",
    "fig, axs = plt.subplots(1, 3, figsize=(12, 4))\n",
    "for idx, s in enumerate(sexes):\n",
    "    ratios = []\n",
    "    for stage in life_stages:\n",
    "        stage_ratio = len(molluscs_df[(molluscs_df['Stage of Life'] == stage) & (molluscs_df['Sex'] == s)])\n",
    "        ratios.append(stage_ratio)\n",
    "\n",
    "    # generate subplot for each sex\n",
    "    axs[idx].pie(ratios, labels=life_stages, autopct='%1.1f%%')\n",
    "    axs[idx].set_title(s)\n",
    "\n",
    "fig.savefig('../../results/plots/batch2/stage_of_life_batch1.jpg')"
   ]
  },
  {
   "cell_type": "code",
   "execution_count": 4,
   "metadata": {},
   "outputs": [
    {
     "data": {
      "image/png": "[encoded data removed]",
      "text/plain": [
       "<Figure size 640x480 with 1 Axes>"
      ]
     },
     "metadata": {},
     "output_type": "display_data"
    }
   ],
   "source": [
    "ratios = []\n",
    "for stage in life_stages:\n",
    "    ratio = len(molluscs_df[molluscs_df['Stage of Life']==stage])\n",
    "    ratios.append(ratio)\n",
    "\n",
    "plt.pie(ratios, labels=life_stages, autopct='%1.1f%%')\n",
    "plt.title('Stage of Life')\n",
    "plt.savefig('../../results/plots/batch2/stol.jpg')\n",
    "plt.show()"
   ]
  },
  {
   "cell_type": "code",
   "execution_count": 5,
   "metadata": {},
   "outputs": [
    {
     "name": "stdout",
     "output_type": "stream",
     "text": [
      "mean and variance for Child: (0.26367403423144653, 0.019421152255363033)\n",
      "mean and variance for Adole: (0.25640218143627275, 0.013016134303793496)\n",
      "mean and variance for Adult: (0.2525297146821796, 0.02018450600621664)\n"
     ]
    },
    {
     "data": {
      "image/png": "[encoded data removed]",
      "text/plain": [
       "<Figure size 640x480 with 1 Axes>"
      ]
     },
     "metadata": {},
     "output_type": "display_data"
    }
   ],
   "source": [
    "# Plot mean values for each sex\n",
    "seq = []\n",
    "feature = 'Shell Weight'\n",
    "\n",
    "mean_var_dict = {}\n",
    "\n",
    "for s in life_stages:\n",
    "    loc_df = molluscs_df[molluscs_df['Stage of Life'] == s]\n",
    "    x = loc_df[feature]\n",
    "    mean_var_dict[s] = (np.mean(x), np.var(x))\n",
    "    print(f'mean and variance for {s}: {mean_var_dict[s]}')\n",
    "    seq.append(x)\n",
    "\n",
    "plt.boxplot(seq, labels=life_stages)\n",
    "plt.title(feature)\n",
    "plt.show()"
   ]
  },
  {
   "cell_type": "code",
   "execution_count": 6,
   "metadata": {},
   "outputs": [
    {
     "name": "stdout",
     "output_type": "stream",
     "text": [
      "optimal ratio per class: 338.6666666666667\n",
      "-----------------------\n",
      "current ratio Child: 315\n",
      "needed samples: 23.666666666666686\n",
      "-----------------------\n",
      "current ratio Adole: 137\n",
      "needed samples: 201.66666666666669\n",
      "-----------------------\n",
      "current ratio Adult: 314\n",
      "needed samples: 24.666666666666686\n",
      "-----------------------\n"
     ]
    }
   ],
   "source": [
    "# Compute optimal ratio of samples\n",
    "n_samples = 766 + 250\n",
    "optimal_ratio = n_samples/3\n",
    "print(f'optimal ratio per class: {optimal_ratio}')\n",
    "\n",
    "print('-----------------------')\n",
    "\n",
    "for s in life_stages:\n",
    "    loc_df = molluscs_df[molluscs_df['Stage of Life'] == s]\n",
    "    print(f'current ratio {s}: {len(loc_df)}')\n",
    "    print(f'needed samples: {optimal_ratio - len(loc_df)}')\n",
    "    print('-----------------------')"
   ]
  },
  {
   "cell_type": "code",
   "execution_count": 7,
   "metadata": {},
   "outputs": [],
   "source": [
    "from sklearn.preprocessing import LabelEncoder\n",
    "\n",
    "# Convert nominal feature to numerical\n",
    "lbl_encoder = LabelEncoder()\n",
    "molluscs_df['Sex'] = lbl_encoder.fit_transform(molluscs_df['Sex'])\n",
    "\n",
    "# Seperate X and y\n",
    "X = molluscs_df.iloc[:, :8]\n",
    "y = molluscs_df.iloc[:, 8]"
   ]
  },
  {
   "cell_type": "code",
   "execution_count": 8,
   "metadata": {},
   "outputs": [],
   "source": [
    "from e2ml.preprocessing import StandardScaler\n",
    "\n",
    "# Standardize each class seperately\n",
    "scaler_child = StandardScaler()\n",
    "scaler_adole = StandardScaler()\n",
    "scaler_adult = StandardScaler()\n",
    "\n",
    "child_df = X[y == 'Child']\n",
    "scaler_child.fit(child_df)\n",
    "child_df_std = scaler_child.transform(child_df)\n",
    "\n",
    "adole_df = X[y == 'Adole']\n",
    "scaler_adole.fit(adole_df)\n",
    "adole_df_std = scaler_adole.transform(adole_df)\n",
    "\n",
    "adult_df = X[y == 'Adult']\n",
    "scaler_adult.fit(adult_df)\n",
    "adult_df_std = scaler_adult.transform(adult_df)"
   ]
  },
  {
   "attachments": {},
   "cell_type": "markdown",
   "metadata": {},
   "source": [
    "# Child"
   ]
  },
  {
   "cell_type": "code",
   "execution_count": 79,
   "metadata": {},
   "outputs": [
    {
     "data": {
      "text/plain": [
       "(23, 8)"
      ]
     },
     "execution_count": 79,
     "metadata": {},
     "output_type": "execute_result"
    }
   ],
   "source": [
    "from e2ml.experimentation import halton\n",
    "\n",
    "n_samples_child = 23\n",
    "bounds = [[-0.1, 0.1] for _ in range(8)]\n",
    "\n",
    "# Generate 100 samples with latin hypercube\n",
    "X_halton_child = halton(n_samples=n_samples_child, n_dimensions=8, bounds=bounds)\n",
    "\n",
    "# Add design df as \"noise\" to the initial df\n",
    "X_halton_child = child_df_std[:n_samples_child, :] + X_halton_child\n",
    "\n",
    "# Use random discrete values for nominal feature\n",
    "X_halton_child[:, 0] = np.random.choice(np.unique(child_df_std[:, 0]), size=n_samples_child)"
   ]
  },
  {
   "cell_type": "code",
   "execution_count": 80,
   "metadata": {},
   "outputs": [],
   "source": [
    "# Reconstruct design matrix\n",
    "X_rec_child = scaler_child.inverse_transform(X_halton_child)\n",
    "\n",
    "design_df_child = pd.DataFrame(data=X_rec_child, columns=X.columns)\n",
    "design_df_child['Sex'] = design_df_child['Sex'].astype(int)\n",
    "\n",
    "# Decode nominal features\n",
    "design_df_child['Sex'] = lbl_encoder.inverse_transform(design_df_child['Sex'])"
   ]
  },
  {
   "cell_type": "code",
   "execution_count": 81,
   "metadata": {},
   "outputs": [
    {
     "data": {
      "text/plain": [
       "(23, 8)"
      ]
     },
     "execution_count": 81,
     "metadata": {},
     "output_type": "execute_result"
    }
   ],
   "source": [
    "# Remove rows with values < 0\n",
    "numerical_cols = ['Length', 'Width', 'Height', 'Weight', 'Non_Shell Weight', 'Intestine Weight', 'Shell Weight']\n",
    "count = 0\n",
    "for col in numerical_cols:\n",
    "    design_df_child = design_df_child[design_df_child[col] >= 0]\n",
    "\n",
    "design_df_child.shape"
   ]
  },
  {
   "attachments": {},
   "cell_type": "markdown",
   "metadata": {},
   "source": [
    "# Adole"
   ]
  },
  {
   "cell_type": "code",
   "execution_count": 91,
   "metadata": {},
   "outputs": [],
   "source": [
    "from e2ml.experimentation import halton\n",
    "\n",
    "n_samples_adole = 205\n",
    "bounds = [[-0.1, 0.1] for _ in range(8)]\n",
    "\n",
    "# Generate 100 samples with latin hypercube\n",
    "X_halton_adole = halton(n_samples=n_samples_adole, n_dimensions=8, bounds=bounds)\n",
    "\n",
    "# Add design df as \"noise\" to the initial df\n",
    "adole_df_std = np.concatenate([adole_df_std, adole_df_std])\n",
    "X_halton_adole = adole_df_std[:n_samples_adole, :] + X_halton_adole\n",
    "\n",
    "# Use random discrete values for nominal feature\n",
    "X_halton_adole[:, 0] = np.random.choice(np.unique(adole_df_std[:, 0]), size=n_samples_adole)"
   ]
  },
  {
   "cell_type": "code",
   "execution_count": 92,
   "metadata": {},
   "outputs": [],
   "source": [
    "# Reconstruct design matrix\n",
    "X_rec_adole = scaler_adole.inverse_transform(X_halton_adole)\n",
    "\n",
    "design_df_adole = pd.DataFrame(data=X_rec_adole, columns=X.columns)\n",
    "design_df_adole['Sex'] = design_df_adole['Sex'].astype(int)\n",
    "\n",
    "# Decode nominal features\n",
    "design_df_adole['Sex'] = lbl_encoder.inverse_transform(design_df_adole['Sex'])\n"
   ]
  },
  {
   "cell_type": "code",
   "execution_count": 93,
   "metadata": {},
   "outputs": [
    {
     "data": {
      "text/plain": [
       "(203, 8)"
      ]
     },
     "execution_count": 93,
     "metadata": {},
     "output_type": "execute_result"
    }
   ],
   "source": [
    "# Remove rows with values < 0\n",
    "numerical_cols = ['Length', 'Width', 'Height', 'Weight', 'Non_Shell Weight', 'Intestine Weight', 'Shell Weight']\n",
    "count = 0\n",
    "for col in numerical_cols:\n",
    "    design_df_adole = design_df_adole[design_df_adole[col] >= 0]\n",
    "\n",
    "design_df_adole.shape"
   ]
  },
  {
   "attachments": {},
   "cell_type": "markdown",
   "metadata": {},
   "source": [
    "# Adult"
   ]
  },
  {
   "cell_type": "code",
   "execution_count": 118,
   "metadata": {},
   "outputs": [],
   "source": [
    "from e2ml.experimentation import halton\n",
    "\n",
    "n_samples_adult = 25\n",
    "bounds = [[-0.1, 0.1] for _ in range(8)]\n",
    "\n",
    "# Generate 100 samples with latin hypercube\n",
    "X_halton_adult = halton(n_samples=n_samples_adult, n_dimensions=8, bounds=bounds)\n",
    "X_halton_adult = adult_df_std[:n_samples_adult, :] + X_halton_adult\n",
    "\n",
    "# Use random discrete values for nominal feature\n",
    "X_halton_adult[:, 0] = np.random.choice(np.unique(adult_df_std[:, 0]), size=n_samples_adult)"
   ]
  },
  {
   "cell_type": "code",
   "execution_count": 119,
   "metadata": {},
   "outputs": [],
   "source": [
    "# Reconstruct design matrix\n",
    "X_rec_adult = scaler_adult.inverse_transform(X_halton_adult)\n",
    "\n",
    "design_df_adult = pd.DataFrame(data=X_rec_adult, columns=X.columns)\n",
    "design_df_adult['Sex'] = design_df_adult['Sex'].astype(int)\n",
    "\n",
    "# Decode nominal features\n",
    "design_df_adult['Sex'] = lbl_encoder.inverse_transform(design_df_adult['Sex'])\n"
   ]
  },
  {
   "cell_type": "code",
   "execution_count": 120,
   "metadata": {},
   "outputs": [
    {
     "data": {
      "text/plain": [
       "(24, 8)"
      ]
     },
     "execution_count": 120,
     "metadata": {},
     "output_type": "execute_result"
    }
   ],
   "source": [
    "# Remove rows with values < 0\n",
    "numerical_cols = ['Length', 'Width', 'Height', 'Weight', 'Non_Shell Weight', 'Intestine Weight', 'Shell Weight']\n",
    "count = 0\n",
    "for col in numerical_cols:\n",
    "    design_df_adult = design_df_adult[design_df_adult[col] >= 0]\n",
    "\n",
    "design_df_adult.shape"
   ]
  },
  {
   "cell_type": "code",
   "execution_count": 121,
   "metadata": {},
   "outputs": [],
   "source": [
    "result_df = pd.concat([design_df_child, design_df_adole, design_df_adult])"
   ]
  },
  {
   "cell_type": "code",
   "execution_count": 122,
   "metadata": {},
   "outputs": [
    {
     "name": "stdout",
     "output_type": "stream",
     "text": [
      "0.2578051567230802\n",
      "0.2526395954606641\n"
     ]
    }
   ],
   "source": [
    "feature = 'Shell Weight'\n",
    "\n",
    "print(np.mean(molluscs_df[feature]))\n",
    "print(np.mean(result_df[feature]))\n",
    "\n",
    "result_df.to_csv('../../data/batch4_albayrak.csv', index=False)"
   ]
  },
  {
   "cell_type": "code",
   "execution_count": 124,
   "metadata": {},
   "outputs": [
    {
     "data": {
      "text/plain": [
       "(83, 8)"
      ]
     },
     "execution_count": 124,
     "metadata": {},
     "output_type": "execute_result"
    }
   ],
   "source": [
    "result_df[result_df['Sex'] == 'F'].shape"
   ]
  }
 ],
 "metadata": {
  "kernelspec": {
   "display_name": "e2ml-env",
   "language": "python",
   "name": "python3"
  },
  "language_info": {
   "codemirror_mode": {
    "name": "ipython",
    "version": 3
   },
   "file_extension": ".py",
   "mimetype": "text/x-python",
   "name": "python",
   "nbconvert_exporter": "python",
   "pygments_lexer": "ipython3",
   "version": "3.9.16"
  },
  "orig_nbformat": 4
 },
 "nbformat": 4,
 "nbformat_minor": 2
}
