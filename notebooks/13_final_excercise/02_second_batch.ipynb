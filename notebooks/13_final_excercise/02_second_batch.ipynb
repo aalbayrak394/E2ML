{
 "cells": [
  {
   "cell_type": "code",
   "execution_count": 2,
   "metadata": {},
   "outputs": [],
   "source": [
    "import pandas as pd\n",
    "import numpy as np\n",
    "import matplotlib.pyplot as plt"
   ]
  },
  {
   "cell_type": "code",
   "execution_count": 3,
   "metadata": {},
   "outputs": [
    {
     "data": {
      "text/html": [
       "<div>\n",
       "<style scoped>\n",
       "    .dataframe tbody tr th:only-of-type {\n",
       "        vertical-align: middle;\n",
       "    }\n",
       "\n",
       "    .dataframe tbody tr th {\n",
       "        vertical-align: top;\n",
       "    }\n",
       "\n",
       "    .dataframe thead th {\n",
       "        text-align: right;\n",
       "    }\n",
       "</style>\n",
       "<table border=\"1\" class=\"dataframe\">\n",
       "  <thead>\n",
       "    <tr style=\"text-align: right;\">\n",
       "      <th></th>\n",
       "      <th>Sex</th>\n",
       "      <th>Length</th>\n",
       "      <th>Width</th>\n",
       "      <th>Height</th>\n",
       "      <th>Weight</th>\n",
       "      <th>Non_Shell Weight</th>\n",
       "      <th>Intestine Weight</th>\n",
       "      <th>Shell Weight</th>\n",
       "      <th>Stage of Life</th>\n",
       "    </tr>\n",
       "  </thead>\n",
       "  <tbody>\n",
       "    <tr>\n",
       "      <th>0</th>\n",
       "      <td>F</td>\n",
       "      <td>0.450000</td>\n",
       "      <td>0.345000</td>\n",
       "      <td>0.120000</td>\n",
       "      <td>0.416500</td>\n",
       "      <td>0.165500</td>\n",
       "      <td>0.095000</td>\n",
       "      <td>0.135000</td>\n",
       "      <td>Adult</td>\n",
       "    </tr>\n",
       "    <tr>\n",
       "      <th>1</th>\n",
       "      <td>F</td>\n",
       "      <td>0.475000</td>\n",
       "      <td>0.380000</td>\n",
       "      <td>0.145000</td>\n",
       "      <td>0.570000</td>\n",
       "      <td>0.167000</td>\n",
       "      <td>0.118000</td>\n",
       "      <td>0.187000</td>\n",
       "      <td>Adole</td>\n",
       "    </tr>\n",
       "    <tr>\n",
       "      <th>2</th>\n",
       "      <td>M</td>\n",
       "      <td>0.610000</td>\n",
       "      <td>0.485000</td>\n",
       "      <td>0.170000</td>\n",
       "      <td>1.022500</td>\n",
       "      <td>0.419000</td>\n",
       "      <td>0.240500</td>\n",
       "      <td>0.360000</td>\n",
       "      <td>Adult</td>\n",
       "    </tr>\n",
       "    <tr>\n",
       "      <th>3</th>\n",
       "      <td>I</td>\n",
       "      <td>0.430000</td>\n",
       "      <td>0.340000</td>\n",
       "      <td>0.105000</td>\n",
       "      <td>0.440500</td>\n",
       "      <td>0.238500</td>\n",
       "      <td>0.074500</td>\n",
       "      <td>0.107500</td>\n",
       "      <td>Adole</td>\n",
       "    </tr>\n",
       "    <tr>\n",
       "      <th>4</th>\n",
       "      <td>M</td>\n",
       "      <td>0.205000</td>\n",
       "      <td>0.155000</td>\n",
       "      <td>0.045000</td>\n",
       "      <td>0.042500</td>\n",
       "      <td>0.017000</td>\n",
       "      <td>0.005500</td>\n",
       "      <td>0.015500</td>\n",
       "      <td>Adult</td>\n",
       "    </tr>\n",
       "    <tr>\n",
       "      <th>...</th>\n",
       "      <td>...</td>\n",
       "      <td>...</td>\n",
       "      <td>...</td>\n",
       "      <td>...</td>\n",
       "      <td>...</td>\n",
       "      <td>...</td>\n",
       "      <td>...</td>\n",
       "      <td>...</td>\n",
       "      <td>...</td>\n",
       "    </tr>\n",
       "    <tr>\n",
       "      <th>245</th>\n",
       "      <td>M</td>\n",
       "      <td>0.710450</td>\n",
       "      <td>0.564696</td>\n",
       "      <td>0.128028</td>\n",
       "      <td>0.837041</td>\n",
       "      <td>0.626681</td>\n",
       "      <td>0.162846</td>\n",
       "      <td>0.453690</td>\n",
       "      <td>Adole</td>\n",
       "    </tr>\n",
       "    <tr>\n",
       "      <th>246</th>\n",
       "      <td>I</td>\n",
       "      <td>0.328120</td>\n",
       "      <td>0.264151</td>\n",
       "      <td>0.192703</td>\n",
       "      <td>0.290816</td>\n",
       "      <td>0.437779</td>\n",
       "      <td>0.140575</td>\n",
       "      <td>0.011481</td>\n",
       "      <td>Child</td>\n",
       "    </tr>\n",
       "    <tr>\n",
       "      <th>247</th>\n",
       "      <td>I</td>\n",
       "      <td>0.537831</td>\n",
       "      <td>0.501820</td>\n",
       "      <td>0.208908</td>\n",
       "      <td>1.011825</td>\n",
       "      <td>0.551533</td>\n",
       "      <td>0.396866</td>\n",
       "      <td>0.380240</td>\n",
       "      <td>Child</td>\n",
       "    </tr>\n",
       "    <tr>\n",
       "      <th>248</th>\n",
       "      <td>M</td>\n",
       "      <td>0.633878</td>\n",
       "      <td>0.263183</td>\n",
       "      <td>0.171297</td>\n",
       "      <td>0.737849</td>\n",
       "      <td>0.207348</td>\n",
       "      <td>0.189870</td>\n",
       "      <td>0.182853</td>\n",
       "      <td>Adult</td>\n",
       "    </tr>\n",
       "    <tr>\n",
       "      <th>249</th>\n",
       "      <td>I</td>\n",
       "      <td>0.593323</td>\n",
       "      <td>0.371861</td>\n",
       "      <td>0.106543</td>\n",
       "      <td>1.564459</td>\n",
       "      <td>0.598394</td>\n",
       "      <td>0.385220</td>\n",
       "      <td>0.423474</td>\n",
       "      <td>Adult</td>\n",
       "    </tr>\n",
       "  </tbody>\n",
       "</table>\n",
       "<p>266 rows × 9 columns</p>\n",
       "</div>"
      ],
      "text/plain": [
       "    Sex    Length     Width    Height    Weight  Non_Shell Weight  \\\n",
       "0     F  0.450000  0.345000  0.120000  0.416500          0.165500   \n",
       "1     F  0.475000  0.380000  0.145000  0.570000          0.167000   \n",
       "2     M  0.610000  0.485000  0.170000  1.022500          0.419000   \n",
       "3     I  0.430000  0.340000  0.105000  0.440500          0.238500   \n",
       "4     M  0.205000  0.155000  0.045000  0.042500          0.017000   \n",
       "..   ..       ...       ...       ...       ...               ...   \n",
       "245   M  0.710450  0.564696  0.128028  0.837041          0.626681   \n",
       "246   I  0.328120  0.264151  0.192703  0.290816          0.437779   \n",
       "247   I  0.537831  0.501820  0.208908  1.011825          0.551533   \n",
       "248   M  0.633878  0.263183  0.171297  0.737849          0.207348   \n",
       "249   I  0.593323  0.371861  0.106543  1.564459          0.598394   \n",
       "\n",
       "     Intestine Weight  Shell Weight Stage of Life  \n",
       "0            0.095000      0.135000         Adult  \n",
       "1            0.118000      0.187000         Adole  \n",
       "2            0.240500      0.360000         Adult  \n",
       "3            0.074500      0.107500         Adole  \n",
       "4            0.005500      0.015500         Adult  \n",
       "..                ...           ...           ...  \n",
       "245          0.162846      0.453690         Adole  \n",
       "246          0.140575      0.011481         Child  \n",
       "247          0.396866      0.380240         Child  \n",
       "248          0.189870      0.182853         Adult  \n",
       "249          0.385220      0.423474         Adult  \n",
       "\n",
       "[266 rows x 9 columns]"
      ]
     },
     "execution_count": 3,
     "metadata": {},
     "output_type": "execute_result"
    }
   ],
   "source": [
    "# Load new batch and concat with initial data\n",
    "batch_1 = pd.read_csv('../../data/batch1_albayrak_labels.csv')\n",
    "initial_molluscs_data = pd.read_csv('../../data/initial_molluscs_data.csv')\n",
    "molluscs_df = pd.concat([initial_molluscs_data, batch_1])\n",
    "\n",
    "molluscs_df"
   ]
  },
  {
   "cell_type": "code",
   "execution_count": 4,
   "metadata": {},
   "outputs": [
    {
     "data": {
      "image/png": "[encoded data removed]",
      "text/plain": [
       "<Figure size 1200x400 with 3 Axes>"
      ]
     },
     "metadata": {},
     "output_type": "display_data"
    }
   ],
   "source": [
    "# Explore new data\n",
    "life_stages = ['Child', 'Adole', 'Adult']\n",
    "sexes = ['M', 'F', 'I']\n",
    "\n",
    "fig, axs = plt.subplots(1, 3, figsize=(12, 4))\n",
    "for idx, s in enumerate(sexes):\n",
    "    ratios = []\n",
    "    for stage in life_stages:\n",
    "        stage_ratio = len(molluscs_df[(molluscs_df['Stage of Life'] == stage) & (molluscs_df['Sex'] == s)])\n",
    "        ratios.append(stage_ratio)\n",
    "\n",
    "    # generate subplot for each sex\n",
    "    axs[idx].pie(ratios, labels=life_stages, autopct='%1.1f%%')\n",
    "    axs[idx].set_title(s)\n",
    "\n",
    "fig.savefig('../../results/plots/stage_of_life_batch1.jpg')"
   ]
  },
  {
   "cell_type": "code",
   "execution_count": 5,
   "metadata": {},
   "outputs": [
    {
     "data": {
      "image/png": "[encoded data removed]",
      "text/plain": [
       "<Figure size 640x480 with 1 Axes>"
      ]
     },
     "metadata": {},
     "output_type": "display_data"
    }
   ],
   "source": [
    "ratios = []\n",
    "for stage in life_stages:\n",
    "    ratio = len(molluscs_df[molluscs_df['Stage of Life']==stage])\n",
    "    ratios.append(ratio)\n",
    "\n",
    "plt.pie(ratios, labels=life_stages, autopct='%1.1f%%')\n",
    "plt.title('Stage of Life')\n",
    "plt.savefig('../../results/plots/batch1/stol.jpg')\n",
    "plt.show()"
   ]
  },
  {
   "cell_type": "code",
   "execution_count": 6,
   "metadata": {},
   "outputs": [
    {
     "name": "stdout",
     "output_type": "stream",
     "text": [
      "mean and variance for Child: (0.5319738980712192, 0.14152284870888243)\n",
      "mean and variance for Adole: (0.8779223694936547, 0.17472621563619367)\n",
      "mean and variance for Adult: (1.144206210956719, 0.24167296604959715)\n"
     ]
    },
    {
     "data": {
      "image/png": "[encoded data removed]",
      "text/plain": [
       "<Figure size 640x480 with 1 Axes>"
      ]
     },
     "metadata": {},
     "output_type": "display_data"
    }
   ],
   "source": [
    "# Plot mean values for each sex\n",
    "seq = []\n",
    "feature = 'Weight'\n",
    "\n",
    "mean_var_dict = {}\n",
    "\n",
    "for s in life_stages:\n",
    "    loc_df = molluscs_df[molluscs_df['Stage of Life'] == s]\n",
    "    x = loc_df[feature]\n",
    "    mean_var_dict[s] = (np.mean(x), np.var(x))\n",
    "    print(f'mean and variance for {s}: {mean_var_dict[s]}')\n",
    "    seq.append(x)\n",
    "\n",
    "plt.boxplot(seq, labels=life_stages)\n",
    "plt.title(feature)\n",
    "plt.show()"
   ]
  },
  {
   "cell_type": "code",
   "execution_count": 7,
   "metadata": {},
   "outputs": [
    {
     "name": "stdout",
     "output_type": "stream",
     "text": [
      "optimal ratio per class: 172.0\n",
      "-----------------------\n",
      "current ratio Child: 80\n",
      "needed samples: 92.0\n",
      "-----------------------\n",
      "current ratio Adole: 38\n",
      "needed samples: 134.0\n",
      "-----------------------\n",
      "current ratio Adult: 148\n",
      "needed samples: 24.0\n",
      "-----------------------\n"
     ]
    }
   ],
   "source": [
    "# Compute optimal ratio of samples\n",
    "n_samples = 266 + 250\n",
    "optimal_ratio = n_samples/3\n",
    "print(f'optimal ratio per class: {optimal_ratio}')\n",
    "\n",
    "print('-----------------------')\n",
    "\n",
    "for s in life_stages:\n",
    "    loc_df = molluscs_df[molluscs_df['Stage of Life'] == s]\n",
    "    print(f'current ratio {s}: {len(loc_df)}')\n",
    "    print(f'needed samples: {optimal_ratio - len(loc_df)}')\n",
    "    print('-----------------------')"
   ]
  },
  {
   "cell_type": "code",
   "execution_count": 8,
   "metadata": {},
   "outputs": [],
   "source": [
    "from sklearn.preprocessing import LabelEncoder\n",
    "\n",
    "# Convert nominal feature to numerical\n",
    "lbl_encoder = LabelEncoder()\n",
    "molluscs_df['Sex'] = lbl_encoder.fit_transform(molluscs_df['Sex'])\n",
    "\n",
    "# Seperate X and y\n",
    "X = molluscs_df.iloc[:, :8]\n",
    "y = molluscs_df.iloc[:, 8]"
   ]
  },
  {
   "cell_type": "code",
   "execution_count": 9,
   "metadata": {},
   "outputs": [],
   "source": [
    "from e2ml.preprocessing import StandardScaler\n",
    "\n",
    "# Standardize each class seperately\n",
    "scaler_child = StandardScaler()\n",
    "scaler_adole = StandardScaler()\n",
    "scaler_adult = StandardScaler()\n",
    "\n",
    "child_df = X[y == 'Child']\n",
    "scaler_child.fit(child_df)\n",
    "child_df_std = scaler_child.transform(child_df)\n",
    "\n",
    "adole_df = X[y == 'Adole']\n",
    "scaler_adole.fit(adole_df)\n",
    "adole_df_std = scaler_adole.transform(adole_df)\n",
    "\n",
    "adult_df = X[y == 'Adult']\n",
    "scaler_adult.fit(adult_df)\n",
    "adult_df_std = scaler_adult.transform(adult_df)"
   ]
  },
  {
   "attachments": {},
   "cell_type": "markdown",
   "metadata": {},
   "source": [
    "# Child"
   ]
  },
  {
   "cell_type": "code",
   "execution_count": 10,
   "metadata": {},
   "outputs": [],
   "source": [
    "from e2ml.experimentation import halton\n",
    "\n",
    "n_samples_child = 150\n",
    "bounds = [[-2, 2] for _ in range(8)]\n",
    "\n",
    "# Generate 100 samples with latin hypercube\n",
    "X_halton_child = halton(n_samples=n_samples_child, n_dimensions=8, bounds=bounds)\n",
    "\n",
    "# Use random discrete values for nominal feature\n",
    "X_halton_child[:, 0] = np.random.choice(np.unique(child_df_std[:, 0]), size=n_samples_child)"
   ]
  },
  {
   "cell_type": "code",
   "execution_count": 11,
   "metadata": {},
   "outputs": [],
   "source": [
    "# Reconstruct design matrix\n",
    "X_rec_child = scaler_child.inverse_transform(X_halton_child)\n",
    "\n",
    "design_df_child = pd.DataFrame(data=X_rec_child, columns=X.columns)\n",
    "design_df_child['Sex'] = design_df_child['Sex'].astype(int)\n",
    "\n",
    "# Decode nominal features\n",
    "design_df_child['Sex'] = lbl_encoder.inverse_transform(design_df_child['Sex'])\n"
   ]
  },
  {
   "cell_type": "code",
   "execution_count": 12,
   "metadata": {},
   "outputs": [
    {
     "data": {
      "text/plain": [
       "(102, 8)"
      ]
     },
     "execution_count": 12,
     "metadata": {},
     "output_type": "execute_result"
    }
   ],
   "source": [
    "# Remove rows with values < 0\n",
    "numerical_cols = ['Length', 'Width', 'Height', 'Weight', 'Non_Shell Weight', 'Intestine Weight', 'Shell Weight']\n",
    "count = 0\n",
    "for col in numerical_cols:\n",
    "    design_df_child = design_df_child[design_df_child[col] >= 0]\n",
    "\n",
    "design_df_child.shape"
   ]
  },
  {
   "cell_type": "code",
   "execution_count": 13,
   "metadata": {},
   "outputs": [],
   "source": [
    "# Drop 10 samples to obtain 92 samples\n",
    "result_child = design_df_child.iloc[:92, :]"
   ]
  },
  {
   "attachments": {},
   "cell_type": "markdown",
   "metadata": {},
   "source": [
    "# Adole"
   ]
  },
  {
   "cell_type": "code",
   "execution_count": 14,
   "metadata": {},
   "outputs": [],
   "source": [
    "from e2ml.experimentation import halton\n",
    "\n",
    "n_samples_adole = 170\n",
    "bounds = [[-2, 2] for _ in range(8)]\n",
    "\n",
    "# Generate 100 samples with latin hypercube\n",
    "X_halton_adole = halton(n_samples=n_samples_adole, n_dimensions=8, bounds=bounds)\n",
    "\n",
    "# Use random discrete values for nominal feature\n",
    "X_halton_adole[:, 0] = np.random.choice(np.unique(adole_df_std[:, 0]), size=n_samples_adole)"
   ]
  },
  {
   "cell_type": "code",
   "execution_count": 15,
   "metadata": {},
   "outputs": [],
   "source": [
    "# Reconstruct design matrix\n",
    "X_rec_adole = scaler_adole.inverse_transform(X_halton_adole)\n",
    "\n",
    "design_df_adole = pd.DataFrame(data=X_rec_adole, columns=X.columns)\n",
    "design_df_adole['Sex'] = design_df_adole['Sex'].astype(int)\n",
    "\n",
    "# Decode nominal features\n",
    "design_df_adole['Sex'] = lbl_encoder.inverse_transform(design_df_adole['Sex'])\n"
   ]
  },
  {
   "cell_type": "code",
   "execution_count": 16,
   "metadata": {},
   "outputs": [
    {
     "data": {
      "text/plain": [
       "(149, 8)"
      ]
     },
     "execution_count": 16,
     "metadata": {},
     "output_type": "execute_result"
    }
   ],
   "source": [
    "# Remove rows with values < 0\n",
    "numerical_cols = ['Length', 'Width', 'Height', 'Weight', 'Non_Shell Weight', 'Intestine Weight', 'Shell Weight']\n",
    "count = 0\n",
    "for col in numerical_cols:\n",
    "    design_df_adole = design_df_adole[design_df_adole[col] >= 0]\n",
    "\n",
    "design_df_adole.shape"
   ]
  },
  {
   "cell_type": "code",
   "execution_count": 17,
   "metadata": {},
   "outputs": [],
   "source": [
    "# Drop 10 samples to obtain 92 samples\n",
    "result_adole = design_df_adole.iloc[:134, :]"
   ]
  },
  {
   "attachments": {},
   "cell_type": "markdown",
   "metadata": {},
   "source": [
    "# Adult"
   ]
  },
  {
   "cell_type": "code",
   "execution_count": 18,
   "metadata": {},
   "outputs": [],
   "source": [
    "from e2ml.experimentation import halton\n",
    "\n",
    "n_samples_adult = 50\n",
    "bounds = [[-2, 2] for _ in range(8)]\n",
    "\n",
    "# Generate 100 samples with latin hypercube\n",
    "X_halton_adult = halton(n_samples=n_samples_adult, n_dimensions=8, bounds=bounds)\n",
    "\n",
    "# Use random discrete values for nominal feature\n",
    "X_halton_adult[:, 0] = np.random.choice(np.unique(adult_df_std[:, 0]), size=n_samples_adult)"
   ]
  },
  {
   "cell_type": "code",
   "execution_count": 19,
   "metadata": {},
   "outputs": [],
   "source": [
    "# Reconstruct design matrix\n",
    "X_rec_adult = scaler_adult.inverse_transform(X_halton_adult)\n",
    "\n",
    "design_df_adult = pd.DataFrame(data=X_rec_adult, columns=X.columns)\n",
    "design_df_adult['Sex'] = design_df_adult['Sex'].astype(int)\n",
    "\n",
    "# Decode nominal features\n",
    "design_df_adult['Sex'] = lbl_encoder.inverse_transform(design_df_adult['Sex'])\n"
   ]
  },
  {
   "cell_type": "code",
   "execution_count": 20,
   "metadata": {},
   "outputs": [
    {
     "data": {
      "text/plain": [
       "(38, 8)"
      ]
     },
     "execution_count": 20,
     "metadata": {},
     "output_type": "execute_result"
    }
   ],
   "source": [
    "# Remove rows with values < 0\n",
    "numerical_cols = ['Length', 'Width', 'Height', 'Weight', 'Non_Shell Weight', 'Intestine Weight', 'Shell Weight']\n",
    "count = 0\n",
    "for col in numerical_cols:\n",
    "    design_df_adult = design_df_adult[design_df_adult[col] >= 0]\n",
    "\n",
    "design_df_adult.shape"
   ]
  },
  {
   "cell_type": "code",
   "execution_count": 21,
   "metadata": {},
   "outputs": [],
   "source": [
    "# Drop 10 samples to obtain 92 samples\n",
    "result_adult = design_df_adole.iloc[:24, :]"
   ]
  },
  {
   "attachments": {},
   "cell_type": "markdown",
   "metadata": {},
   "source": [
    "# Concat dataframes to a result"
   ]
  },
  {
   "cell_type": "code",
   "execution_count": 22,
   "metadata": {},
   "outputs": [],
   "source": [
    "result_df = pd.concat([result_child, result_adole, result_adult])"
   ]
  },
  {
   "cell_type": "code",
   "execution_count": 23,
   "metadata": {},
   "outputs": [
    {
     "name": "stdout",
     "output_type": "stream",
     "text": [
      "0.26008979021509004\n",
      "0.2579854230092994\n"
     ]
    }
   ],
   "source": [
    "feature = 'Shell Weight'\n",
    "\n",
    "print(np.mean(molluscs_df[feature]))\n",
    "print(np.mean(result_df[feature]))\n",
    "\n",
    "result_df.to_csv('../../data/batch2_albayrak.csv', index=False)"
   ]
  }
 ],
 "metadata": {
  "kernelspec": {
   "display_name": "e2ml-env",
   "language": "python",
   "name": "python3"
  },
  "language_info": {
   "codemirror_mode": {
    "name": "ipython",
    "version": 3
   },
   "file_extension": ".py",
   "mimetype": "text/x-python",
   "name": "python",
   "nbconvert_exporter": "python",
   "pygments_lexer": "ipython3",
   "version": "3.9.16"
  },
  "orig_nbformat": 4
 },
 "nbformat": 4,
 "nbformat_minor": 2
}
