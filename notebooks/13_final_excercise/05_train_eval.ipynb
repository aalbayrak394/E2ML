{
 "cells": [
  {
   "cell_type": "code",
   "execution_count": 37,
   "metadata": {},
   "outputs": [],
   "source": [
    "import pandas as pd\n",
    "import numpy as np\n",
    "import matplotlib.pyplot as plt\n",
    "from sklearn.model_selection import train_test_split\n",
    "from sklearn.preprocessing import LabelEncoder\n",
    "\n",
    "from sklearn.neural_network import MLPClassifier\n",
    "from sklearn.ensemble import RandomForestClassifier\n",
    "from sklearn.svm import SVC\n",
    "\n",
    "from e2ml.preprocessing import StandardScaler\n",
    "from e2ml.experimentation import halton\n",
    "from e2ml.evaluation import cross_validation, zero_one_loss, confusion_matrix"
   ]
  },
  {
   "cell_type": "code",
   "execution_count": 25,
   "metadata": {},
   "outputs": [],
   "source": [
    "# Get Data\n",
    "initial_molluscs_data = pd.read_csv('../../data/initial_molluscs_data.csv')\n",
    "batch_1 = pd.read_csv('../../data/batch1_albayrak_labels.csv')\n",
    "batch_2 = pd.read_csv('../../data/batch2_albayrak_labels.csv')\n",
    "batch_3 = pd.read_csv('../../data/batch3_albayrak_labels.csv')\n",
    "batch_4 = pd.read_csv('../../data/batch4_albayrak_labels.csv')\n",
    "molluscs_df = pd.concat([initial_molluscs_data, batch_1, batch_2, batch_3, batch_4])\n",
    "\n",
    "# Encode nominal features\n",
    "lbl_encoder_sex = LabelEncoder()\n",
    "lbl_encoder_stol = LabelEncoder()\n",
    "molluscs_df['Sex'] = lbl_encoder_sex.fit_transform(molluscs_df['Sex'])\n",
    "molluscs_df['Stage of Life'] = lbl_encoder_stol.fit_transform(molluscs_df['Stage of Life'])\n",
    "\n",
    "# Split X and y\n",
    "X = molluscs_df.iloc[:, :8]\n",
    "y = molluscs_df.iloc[:, 8]"
   ]
  },
  {
   "cell_type": "code",
   "execution_count": 26,
   "metadata": {},
   "outputs": [],
   "source": [
    "# X and y to numpy array\n",
    "X = np.array(X)\n",
    "y = np.array(y)"
   ]
  },
  {
   "cell_type": "markdown",
   "metadata": {},
   "source": [
    "## 1. Train Classifiers"
   ]
  },
  {
   "cell_type": "code",
   "execution_count": 28,
   "metadata": {},
   "outputs": [
    {
     "name": "stdout",
     "output_type": "stream",
     "text": [
      "SVC Performance: 0.19788467110982322 +- 0.027675550346142858\n",
      "MLP Performance: 0.27658166714961846 +- 0.020131481901264656\n",
      "RandomForst Performance: 0.32675552979812617 +- 0.021900261928101145\n"
     ]
    }
   ],
   "source": [
    "# Define parameters\n",
    "C_upper = 1000\n",
    "C_lower = 0\n",
    "gamma_upper = 1\n",
    "gamma_lower = 0\n",
    "\n",
    "lr_upper = 1\n",
    "lr_lower = 0\n",
    "alpha_upper = 1\n",
    "alpha_lower = 0\n",
    "\n",
    "n_estimators_upper = 100\n",
    "n_estimators_lower = 50\n",
    "max_depth_upper = 5\n",
    "max_depth_lower = 2\n",
    "\n",
    "# Hyperparamter configurations (doe method)\n",
    "theta_svc_list = halton(n_samples=20, n_dimensions=2, bounds=[(C_lower, C_upper), (gamma_lower, gamma_upper)])\n",
    "theta_mlp_list = halton(n_samples=20, n_dimensions=2, bounds=[(lr_lower, lr_upper), (alpha_lower, alpha_upper)])\n",
    "theta_rf_list = halton(n_samples=20, n_dimensions=2, bounds=[(n_estimators_lower, n_estimators_upper), (max_depth_lower, max_depth_upper)])\n",
    "\n",
    "# Init helper variables\n",
    "risks_svc_outer, risks_mlp_outer, risks_rf_outer = [], [], []\n",
    "\n",
    "# Cross-Validation\n",
    "n_folds = 5\n",
    "sample_indices = np.arange(len(y), dtype=int)\n",
    "train_outer, test_outer = cross_validation(\n",
    "    sample_indices=sample_indices,\n",
    "    n_folds=n_folds,\n",
    "    y=y,\n",
    "    random_state=0\n",
    ")\n",
    "\n",
    "# Outer k-fold loop, result: test and 'rest' set\n",
    "for tr_outer, te_outer in zip(train_outer, test_outer):\n",
    "    # cross_validation\n",
    "    train_inner, validation_inner = cross_validation(\n",
    "        sample_indices=tr_outer,\n",
    "        n_folds=n_folds,\n",
    "        y=y[tr_outer],\n",
    "        random_state=0\n",
    "    )\n",
    "\n",
    "    # Initial best hyperparameters and risk estimates\n",
    "    theta_star_svc, theta_star_mlp, theta_star_rf = None, None, None\n",
    "    minimum_risk_svc, minimum_risk_mlp, minimum_risk_rf = 1, 1, 1\n",
    "\n",
    "    # Hyperparameter loop\n",
    "    for theta_svc, theta_mlp, theta_rf in zip(theta_svc_list, theta_mlp_list, theta_rf_list):\n",
    "        risks_svc_inner, risks_mlp_inner, risks_rf_inner = [], [], []\n",
    "\n",
    "        # Inner k-fold loop, result: val and train set\n",
    "        for tr_inner, val_inner in zip(train_inner, validation_inner):\n",
    "            # Data preprocessing\n",
    "            sc_inner = StandardScaler()\n",
    "            sc_inner.fit(X[tr_inner])\n",
    "            X_tr_inner = sc_inner.transform(X[tr_inner])\n",
    "            X_val_inner = sc_inner.transform(X[val_inner])\n",
    "\n",
    "            # Init classifier\n",
    "            svc_inner = SVC(\n",
    "                C=theta_svc[0],\n",
    "                gamma=theta_svc[1],\n",
    "                random_state=0\n",
    "            )\n",
    "            svc_inner.fit(X_tr_inner, y[tr_inner])\n",
    "\n",
    "            mlp_inner = MLPClassifier(\n",
    "                learning_rate_init=theta_mlp[0],\n",
    "                alpha=theta_mlp[1],\n",
    "                random_state=0\n",
    "            )\n",
    "            mlp_inner.fit(X_tr_inner, y[tr_inner])  \n",
    "            \n",
    "            rf_inner = RandomForestClassifier(\n",
    "                n_estimators=int(theta_rf[0]),\n",
    "                max_depth=int(theta_rf[1]),\n",
    "                random_state=0\n",
    "            )\n",
    "            rf_inner.fit(X_tr_inner, y[tr_inner])  \n",
    "\n",
    "            # Evaluate classifier (on val set)\n",
    "            y_pred_svc = svc_inner.predict(X_val_inner)\n",
    "            risks_svc_inner.append(zero_one_loss(y_pred=y_pred_svc, y_true=y[val_inner]))\n",
    "\n",
    "            y_pred_mlp = mlp_inner.predict(X_val_inner)\n",
    "            risks_mlp_inner.append(zero_one_loss(y_pred=y_pred_mlp, y_true=y[val_inner]))\n",
    "            \n",
    "            y_pred_rf = rf_inner.predict(X_val_inner)\n",
    "            risks_rf_inner.append(zero_one_loss(y_pred=y_pred_rf, y_true=y[val_inner]))\n",
    "        \n",
    "        # Update hyperparameter configs\n",
    "        if np.mean(risks_svc_inner) <= minimum_risk_svc:\n",
    "            theta_star_svc = theta_svc\n",
    "            minimum_risk_svc = np.mean(risks_svc_inner)\n",
    "\n",
    "        if np.mean(risks_mlp_inner) <= minimum_risk_mlp:\n",
    "            theta_star_mlp = theta_mlp\n",
    "            minimum_risk_mlp = np.mean(risks_mlp_inner)\n",
    "\n",
    "        if np.mean(risks_rf_inner) <= minimum_risk_rf:\n",
    "            theta_star_rf = theta_rf\n",
    "            minimum_risk_rf = np.mean(risks_rf_inner)\n",
    "\n",
    "\n",
    "    # Data preprocessing\n",
    "    sc_outer = StandardScaler()\n",
    "    sc_outer.fit(X[tr_outer])\n",
    "    X_tr_outer = sc_outer.transform(X[tr_outer])\n",
    "    X_te_outer = sc_outer.transform(X[te_outer])\n",
    "\n",
    "    # Fit classifier (on train + val set)\n",
    "    svc_outer = SVC(\n",
    "        C=theta_star_svc[0],\n",
    "        gamma=theta_star_svc[1],\n",
    "        random_state=0\n",
    "    )\n",
    "    svc_outer.fit(X_tr_outer, y[tr_outer])\n",
    "\n",
    "    mlp_outer = MLPClassifier(\n",
    "        learning_rate_init=theta_star_mlp[0],\n",
    "        alpha=theta_star_mlp[1],\n",
    "        random_state=0\n",
    "    )\n",
    "    mlp_outer.fit(X_tr_outer, y[tr_outer])\n",
    "\n",
    "    rf_outer = RandomForestClassifier(\n",
    "        n_estimators=int(theta_star_rf[0]),\n",
    "        max_depth=int(theta_star_rf[1]),\n",
    "        random_state=0\n",
    "    )\n",
    "    rf_outer.fit(X_tr_outer, y[tr_outer])\n",
    "\n",
    "    # Evaluate classifier (on test set (te_outer))\n",
    "    y_pred_svc = svc_outer.predict(X_te_outer)\n",
    "    risks_svc_outer.append(zero_one_loss(y_pred=y_pred_svc, y_true=y[te_outer]))\n",
    "\n",
    "    y_pred_mlp = mlp_outer.predict(X_te_outer)\n",
    "    risks_mlp_outer.append(zero_one_loss(y_pred=y_pred_mlp, y_true=y[te_outer]))\n",
    "    \n",
    "    y_pred_rf = rf_outer.predict(X_te_outer)\n",
    "    risks_rf_outer.append(zero_one_loss(y_pred=y_pred_rf, y_true=y[te_outer]))\n",
    "\n",
    "print(f'SVC Performance: {np.mean(risks_svc_outer)} +- {np.std(risks_svc_outer)}')\n",
    "print(f'MLP Performance: {np.mean(risks_mlp_outer)} +- {np.std(risks_mlp_outer)}')\n",
    "print(f'RandomForst Performance: {np.mean(risks_rf_outer)} +- {np.std(risks_rf_outer)}')"
   ]
  },
  {
   "cell_type": "code",
   "execution_count": 32,
   "metadata": {},
   "outputs": [
    {
     "name": "stdout",
     "output_type": "stream",
     "text": [
      "SVC: C=562.5, gamma=0.037037037037037035\n",
      "MLP: lr=0.03125, alpha=0.5925925925925926\n",
      "RandomForest: n_estimators=62, max_depth=4\n"
     ]
    }
   ],
   "source": [
    "# print hyperparameters\n",
    "print(f'SVC: C={theta_star_svc[0]}, gamma={theta_star_svc[1]}')\n",
    "print(f'MLP: lr={theta_star_mlp[0]}, alpha={theta_star_mlp[1]}')\n",
    "print(f'RandomForest: n_estimators={int(theta_star_rf[0])}, max_depth={int(theta_star_rf[1])}')"
   ]
  },
  {
   "cell_type": "code",
   "execution_count": 46,
   "metadata": {},
   "outputs": [
    {
     "data": {
      "text/plain": [
       "<sklearn.metrics._plot.confusion_matrix.ConfusionMatrixDisplay at 0x7fc7e374aca0>"
      ]
     },
     "execution_count": 46,
     "metadata": {},
     "output_type": "execute_result"
    },
    {
     "data": {
      "image/png": "[encoded data removed]",
      "text/plain": [
       "<Figure size 640x480 with 2 Axes>"
      ]
     },
     "metadata": {},
     "output_type": "display_data"
    }
   ],
   "source": [
    "# Evaluate optimal models\n",
    "C_svc = confusion_matrix(y_true=y[te_outer], y_pred=y_pred_svc, n_classes=3)\n",
    "C_mlp = confusion_matrix(y_true=y[te_outer], y_pred=y_pred_mlp, n_classes=3)\n",
    "C_rf = confusion_matrix(y_true=y[te_outer], y_pred=y_pred_rf, n_classes=3)\n",
    "\n",
    "from sklearn.metrics import ConfusionMatrixDisplay\n",
    "disp = ConfusionMatrixDisplay(C_svc, display_labels=['Adole', 'Child', 'Adult'])\n",
    "disp.plot()\n"
   ]
  }
 ],
 "metadata": {
  "kernelspec": {
   "display_name": "e2ml-env",
   "language": "python",
   "name": "python3"
  },
  "language_info": {
   "codemirror_mode": {
    "name": "ipython",
    "version": 3
   },
   "file_extension": ".py",
   "mimetype": "text/x-python",
   "name": "python",
   "nbconvert_exporter": "python",
   "pygments_lexer": "ipython3",
   "version": "3.9.16"
  },
  "orig_nbformat": 4
 },
 "nbformat": 4,
 "nbformat_minor": 2
}
