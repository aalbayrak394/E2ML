{
 "cells": [
  {
   "cell_type": "markdown",
   "metadata": {},
   "source": [
    "# **Introduction to Python**\n",
    "We will mainly work with [NumPy](https://docs.scipy.org/doc/numpy-1.13.0/user/whatisnumpy.html), [Matplotlib](https://matplotlib.org/3.1.1/tutorials/introductory/usage.html#sphx-glr-tutorials-introductory-usage-py), and [SciPy](https://www.scipy.org/getting-started.html) in this introductory course. Additionally, we brielfy present [Scikit-learn](https://scikit-learn.org/stable/) as prominent framework for machine learning algorithms.\n",
    "As a further important tool of programming, we will briefly introduce [Git](https://git-scm.com/).\n",
    "\n",
    "\n",
    "**NumPy** is the core library for scientific computing in Python. It provides a high-performance multidimensional array object and tools for working with these arrays.\n",
    "A **NumPy array** is a grid of values, all of the same type, and is indexed by a tuple of non-negative integers.\n",
    "- The number of dimensions is the **rank** of the array;\n",
    "- the shape of an array is a tuple of integers giving the size of the array along each dimension.\n",
    "\n",
    "**Matplotlib** is a plotting library for the Python programming language and its numerical mathematics extension NumPy. It provides an object-oriented API for embedding plots into applications using general-purpose GUI toolkits.\n",
    "\n",
    "**SciPy** is a free and open-source Python library used for scientific computing and technical computing.\n",
    "SciPy contains modules for optimization, linear algebra, integration, interpolation, special functions, FFT, signal and image processing, ODE solvers and other tasks common in science and engineering.\n",
    "\n",
    "**Scikit-learn*** is an open source machine learning library that supports supervised and unsupervised learning. It also provides various tools for model fitting, data preprocessing, model selection and evaluation, and many other utilities.\n",
    "\n",
    "**Git** is a free and open-source distributed version control system designed to handle everything from small to very large projects with speed and efficiency.\n",
    "\n",
    "Some basics of these python packages or tools will be addressed in this first notebook. If you are interested, you can visit the respective documentations and get a deeper understanding. Moreover, we will briefly address some basics concepts (i.e., functions and classes) of the programming language Python.\n",
    "\n",
    "### **Table of Contents**\n",
    "1. [Common NumPy Operations](#numpy)\n",
    "2. [Functions and Classes](#functions-and-classes)\n",
    "3. [Plotting with Matplotlib](#matplotlib)\n",
    "4. [Optimization with SciPy](#scipy)\n",
    "5. [Classification with Scikit-learn](#scikit-learn)\n",
    "6. [Version Control via Git](#git)"
   ]
  },
  {
   "cell_type": "code",
   "execution_count": null,
   "metadata": {},
   "outputs": [],
   "source": [
    "import numpy as np \n",
    "import pylab as plt\n",
    "import scipy.optimize"
   ]
  },
  {
   "cell_type": "markdown",
   "metadata": {},
   "source": [
    "### **1. Common NumPy Operations** <a class=\"anchor\" id=\"numpy\"></a>\n",
    "This will be a quick introduction to some common operations in NumPy.\n",
    "For a more detailed notebook using NumPy and Matplotlib refer to https://colab.research.google.com/github/cs231n/cs231n.github.io/blob/master/python-colab.ipynb.\n",
    "\n",
    "- Create and print two NumPy arrays `a` and `b` that contain the values of the following vectors:\n",
    "\\begin{equation}\n",
    "\\mathbf{a} =\\begin{pmatrix}-2.0 \\\\ 0.0\\end{pmatrix}, \\quad \\mathbf{b} =\\begin{pmatrix}2.0 \\\\ 1.0\\end{pmatrix}.\n",
    "\\end{equation}\n",
    "- Create a rank 1 array `c` having arbitrary elements.\n",
    "- Print the type of the array using Pythons' built-in `type` method.\n",
    "- Print the shape of the array `c`.\n",
    "- Index all elements from the array (e.g., using `c[.]`) and print them.\n",
    "- Change the element of the first entry of the array `c`.\n",
    "- Create a rank 2 array `X` having arbitrary elements (`X` would represent a matrix).\n",
    "- Print the shape of `X`.\n",
    "- Index some of elements of `X`  and print them."
   ]
  },
  {
   "cell_type": "code",
   "execution_count": null,
   "metadata": {},
   "outputs": [],
   "source": [
    "# Create array `a`.\n",
    "# TODO\n",
    "\n",
    "# Create array `b`.\n",
    "# TODO\n",
    "\n",
    "# Print arrays `a` and `b`.\n",
    "# TODO\n",
    "\n",
    "# Create `c` as a rank 1 array with arbitrary elements.\n",
    "# TODO\n",
    "\n",
    "# Print type of array `c`.\n",
    "# TODO\n",
    "\n",
    "# Print shape of array `c`.\n",
    "# TODO\n",
    "\n",
    "# Index and print all elements of array `c`.\n",
    "# TODO\n",
    "\n",
    "# Change the first element of array `c`.\n",
    "# TODO\n",
    "\n",
    "# Print array `c`.\n",
    "# TODO\n",
    "\n",
    "# Create `X` as a rank 2 array with arbitrary elements.\n",
    "# TODO\n",
    "\n",
    "# Print shape of array `X`.\n",
    "# TODO\n",
    "\n",
    "# Index and print some elements of array `X`.\n",
    "# TODO\n"
   ]
  },
  {
   "cell_type": "markdown",
   "metadata": {},
   "source": [
    "Perform the following operations with vectors $\\mathbf{a}$ and $\\mathbf{b}$:\n",
    "- scalar Product: $\\mathbf{a}^\\mathrm{T} \\cdot \\mathbf{b}$,\n",
    "- outer Product: $\\mathbf{a} \\cdot \\mathbf{b}^\\mathrm{T}$,\n",
    "- and elementwise multiplication: $\\mathbf{c} = \\mathbf{a} \\odot \\mathbf{b}$ where $c_i = a_i \\cdot b_i$."
   ]
  },
  {
   "cell_type": "code",
   "execution_count": null,
   "metadata": {},
   "outputs": [],
   "source": [
    "# Compute and print scalar product of `a` and `b`.\n",
    "# TODO\n",
    "\n",
    "# Compute and print outer product of `a` and `b`.\n",
    "# TODO\n",
    "\n",
    "# Compute and print elementwise multiplication of `a` and `b`.\n",
    "# TODO"
   ]
  },
  {
   "cell_type": "markdown",
   "metadata": {},
   "source": [
    "- Create a numpy array representing the matrix $M \\in \\mathbb{R}^{2 \\times 2}$ with random elements.\n",
    "- Now perform the following calculation: $\\mathbf{M}\\mathbf{M}^{-1}$.\n",
    "    - *Tip*: You can use `A @ B ` (`np.dot(A, B)`, `np.matmul(A, B)`) to perform matrix multiplication."
   ]
  },
  {
   "cell_type": "code",
   "execution_count": null,
   "metadata": {},
   "outputs": [],
   "source": [
    "# Create 2x2 array `M` with random elements.\n",
    "# TODO\n",
    "\n",
    "# Print matrix multiplcation of M and its inverse.\n",
    "# TODO"
   ]
  },
  {
   "cell_type": "markdown",
   "metadata": {},
   "source": [
    "### **2. Functions and Classes** <a class=\"anchor\" id=\"functions-and-classes\"></a>\n",
    "\n",
    "#### **Functions**\n",
    "- A function is a block of code (started by `def`) which only runs when it is called.\n",
    "- You can pass data, known as parameters, into a function.\n",
    "- A function can return data as a result."
   ]
  },
  {
   "cell_type": "code",
   "execution_count": null,
   "metadata": {},
   "outputs": [],
   "source": [
    "def example_function(a, inc):\n",
    "    \"\"\"\n",
    "    This is a docstring to document your function.\n",
    "    In particular you should describe the expected \n",
    "    parameters and the return value, if available.\n",
    "    \n",
    "    Parameters\n",
    "    ----------\n",
    "    a : expected data type of parameter `a`\n",
    "        Description of parameter `a`.\n",
    "    inc : expected data type of parameter `inc`\n",
    "        Description of parameter `inc`.\n",
    "        \n",
    "    Returns\n",
    "    -------\n",
    "    c : data type of returned value `c`\n",
    "        Description of returned value `c`.\n",
    "    \"\"\"\n",
    "    c = a + inc\n",
    "    return c\n",
    "\n",
    "print(example_function(\"hello\", \" world\"))\n",
    "print(example_function(100, 20))\n",
    "print(example_function(a, b))"
   ]
  },
  {
   "cell_type": "markdown",
   "metadata": {},
   "source": [
    "The Euclidean distance of two vectors is defined as:\n",
    "$$d(\\mathbf{a}, \\mathbf{b})=\\|\\mathbf{a}-\\mathbf{b}\\|_{2}=\\sqrt{\\left(a_{1}-b_{1}\\right)^{2}+\\cdots+\\left(a_{n}-b_{n}\\right)^{2}}=\\sqrt{\\sum_{i=1}^{n}\\left(a_{i}-b_{i}\\right)^{2}}.$$\n",
    "\n",
    "- Implement the function `euc_dist_loop(a, b)` using a [for loop](https://docs.python.org/3/tutorial/controlflow.html). *Note:* To calculate the square root you might use `np.sqrt`."
   ]
  },
  {
   "cell_type": "code",
   "execution_count": null,
   "metadata": {},
   "outputs": [],
   "source": [
    "def euc_dist_loop(a, b):\n",
    "    \"\"\"\n",
    "    Computes the Euclidean distance between the two\n",
    "    vectors `a` and `b` by using a for loop.\n",
    "    \n",
    "    Parameters\n",
    "    ----------\n",
    "    a : np.ndarray, shape (n_elements)\n",
    "        First vector.\n",
    "    b : np.ndarray, shape (n_elements)\n",
    "        Second vector.\n",
    "        \n",
    "    Returns\n",
    "    -------\n",
    "    dist : float\n",
    "        Euclidean distance between the vectors `a` and `b`.\n",
    "    \"\"\"\n",
    "    # TODO\n",
    "\n",
    "# Create two vectors `a` and `b`.\n",
    "a, b = np.array([1, 2]), np.array([2, 1])\n",
    "\n",
    "# Compute and print Euclidean distance between `a` and `b`.\n",
    "# TODO"
   ]
  },
  {
   "cell_type": "markdown",
   "metadata": {},
   "source": [
    "- Implement the function `euc_sum` which makes use of the NumPy method `np.sum`. You should not use any loops in your solution."
   ]
  },
  {
   "cell_type": "code",
   "execution_count": null,
   "metadata": {},
   "outputs": [],
   "source": [
    "def euc_dist_sum(a, b):\n",
    "    \"\"\"\n",
    "    Computes the Euclidean distance between the two\n",
    "    vectors `a` and `b` by using the NumPy method \n",
    "    `np.sum`.\n",
    "    \n",
    "    Parameters\n",
    "    ----------\n",
    "    a : np.ndarray, shape (n_elements)\n",
    "        First vector.\n",
    "    b : np.ndarray, shape (n_elements)\n",
    "        Second vector.\n",
    "        \n",
    "    Returns\n",
    "    -------\n",
    "    dist : float\n",
    "        Euclidean distance between the vectors `a` and `b`.\n",
    "    \"\"\"\n",
    "    # TODO\n",
    "\n",
    "# Create two vectors `a` and `b`.\n",
    "a, b = np.array([1, 2]), np.array([2, 1])\n",
    "\n",
    "# Compute and print Euclidean distance between `a` and `b`.\n",
    "# TODO"
   ]
  },
  {
   "cell_type": "markdown",
   "metadata": {},
   "source": [
    "- Implement the function `euc_dist_matmul` which makes use of matrix multiplication. Recall that the Euclidean distance can be expressed using a dot product."
   ]
  },
  {
   "cell_type": "code",
   "execution_count": null,
   "metadata": {},
   "outputs": [],
   "source": [
    "def euc_dist_matmul(a, b):\n",
    "    \"\"\"\n",
    "    Computes Euclidean distance between the two\n",
    "    vectors `a` and `b` by using NumPy matrix\n",
    "    multiplication.\n",
    "    \n",
    "    Parameters\n",
    "    ----------\n",
    "    a : np.ndarray, shape (n_elements)\n",
    "        First vector.\n",
    "    b : np.ndarray, shape (n_elements)\n",
    "        Second vector.\n",
    "        \n",
    "    Returns\n",
    "    -------\n",
    "    dist : float\n",
    "        Euclidean distance between the vectors `a` and `b`.\n",
    "    \"\"\"\n",
    "    # TODO\n",
    "\n",
    "# Create two vectors `a` and `b`.\n",
    "a, b = np.array([1, 2]), np.array([2, 1])\n",
    "\n",
    "# Compute and print Euclidean distance between `a` and `b`.\n",
    "# TODO"
   ]
  },
  {
   "cell_type": "markdown",
   "metadata": {},
   "source": [
    "#### **Classes**\n",
    "- Python is an object-oriented programming language. Almost everything in Python is an object, with its attributes and methods.\n",
    "- A Class is like an object constructor, or a \"blueprint\" for creating objects."
   ]
  },
  {
   "cell_type": "code",
   "execution_count": null,
   "metadata": {},
   "outputs": [],
   "source": [
    "class ExampleClass:\n",
    "    \"\"\"\n",
    "    This is a docstring to document your class.\n",
    "    In particular you should describe the expected\n",
    "    parameters of the __init__ method and attributes\n",
    "    of the class (i.e., variables with `self` in front).\n",
    "    \n",
    "    Parameters\n",
    "    ----------\n",
    "    var : expected data type of parameter `var`\n",
    "        Description of parameter `parameter`.\n",
    "        \n",
    "    Attributes\n",
    "    ----------\n",
    "    var : expected data type of attribute `var`\n",
    "        Description of attribute `var`.\n",
    "    \"\"\"\n",
    "    def __init__(self, var):\n",
    "        print('I run when we create an object.')\n",
    "        # Saving a parameter as an attribute (i.e., `self.var = var`)\n",
    "        # enables other methods in a class to have access to that \n",
    "        # parameter.\n",
    "        self.var = var       \n",
    "        \n",
    "    def __call__(self):\n",
    "        \"\"\"\n",
    "        This is a docstring to document the method `call`.\n",
    "        \"\"\"\n",
    "        print('I run when the object is called')\n",
    "        \n",
    "    def some_method(self):\n",
    "        \"\"\"\n",
    "        This is a docstring to document the method `some_method`.\n",
    "        \"\"\"\n",
    "        print('I am a method.')\n",
    "        print('The variable can be accessed in this method: {}'.format(self.var))\n",
    "\n",
    "# Creating object out of class `ExampleClass` calls the `__init__` method.\n",
    "obj = ExampleClass(var=42) \n",
    "\n",
    "# Calling the object runs the `__call__` method.\n",
    "obj()\n",
    "\n",
    "# Call `some_method` from the object.\n",
    "obj.some_method()    \n",
    "\n",
    "# Get the value of the attribute `var` defined in the object.\n",
    "print('We can access the attribute `var` = {}.'.format(obj.var))"
   ]
  },
  {
   "cell_type": "markdown",
   "metadata": {},
   "source": [
    "The Euclidean distance is a special form of the [p-norm](https://en.wikipedia.org/wiki/Norm_(mathematics)#p-norm):\n",
    "\\begin{equation}\n",
    "d_p(\\mathbf{a},\\mathbf{b}) = (\\sum_i^n |a_i - b_i|^p)^{\\frac{1}{p}}.\n",
    "\\end{equation}\n",
    "\n",
    "- Create the class `PNorm` that gets the value of $p$ as an initialization parameter. The call method should get two vectors and return their distance."
   ]
  },
  {
   "cell_type": "code",
   "execution_count": null,
   "metadata": {},
   "outputs": [],
   "source": [
    "class PNorm:\n",
    "    \"\"\"\n",
    "    This class implements the p-norm [1].\n",
    "    \n",
    "    Parameters\n",
    "    ----------\n",
    "    p : int\n",
    "        `p` is to be a non-negative int and determines the p-norm.\n",
    "        \n",
    "    Attributes\n",
    "    ----------\n",
    "    p : int\n",
    "        `p` is to be a non-negative int and determines the p-norm.\n",
    "        \n",
    "    References\n",
    "    ----------\n",
    "    [1] https://en.wikipedia.org/wiki/Norm_(mathematics)#p-norm\n",
    "    \"\"\"\n",
    "    def __init__(self, p):\n",
    "        # TODO\n",
    "    \n",
    "    def __call__(self, a, b):\n",
    "        \"\"\"\n",
    "        Call method that determines the p-norm between `a` and `b`.\n",
    "        \n",
    "        Parameters\n",
    "        ----------\n",
    "        a : array-like, shape (n_elements)\n",
    "            First vector.\n",
    "        b : array-like, shape (n_elements)\n",
    "            Second vector.\n",
    "            \n",
    "        Returns\n",
    "        -------\n",
    "        p_norm : float\n",
    "            Computed p-norm between the vectors `a` and `b`.\n",
    "        \"\"\"\n",
    "        # TODO\n",
    "\n",
    "# Create two vectors `a` and `b`.\n",
    "a, b = np.array([1, 2]), np.array([2, 1])\n",
    "\n",
    "# Create Pnorm object with `p=2`.\n",
    "# TODO\n",
    "\n",
    "# Compute p-norm between `a` and `b`.\n",
    "# TODO"
   ]
  },
  {
   "cell_type": "markdown",
   "metadata": {},
   "source": [
    "The [Mahalanobis distance](https://en.wikipedia.org/wiki/Mahalanobis_distance) of two vectors $\\mathbf{a} \\in \\mathbb{R}^n$, $\\mathbf{b} \\in \\mathbb{R}^n$ given a covariance matrix $\\mathbf{S} \\in \\mathbb{R}^{n \\times n}$ is given by:\n",
    "\\begin{equation}\n",
    "\\Delta_\\mathbf{S}(\\mathbf{b}, \\mathbf{a}) =  \\sqrt{(\\mathbf{a}-\\mathbf{b})^T\\mathbf{S}^{-1}(\\mathbf{a}-\\mathbf{b})}\n",
    "\\end{equation}\n",
    "\n",
    "A covariance matrix is a symmetric, positive semidefinite matrix. Use the provided matrix:\n",
    "\\begin{equation}\n",
    "\\mathbf{S}=\\begin{pmatrix}1.2 & -0.7 \\\\ -0.7 & 1.2 \\end{pmatrix}.\n",
    "\\end{equation}\n",
    "\n",
    "- Implement a class `Mahalanobis` that gets the matrix of $\\mathbf{S}$ as an initialization parameter. The call method should get two vectors and return their distance."
   ]
  },
  {
   "cell_type": "code",
   "execution_count": null,
   "metadata": {},
   "outputs": [],
   "source": [
    "class Mahalanobis:\n",
    "    \"\"\"\n",
    "    This class implements the Mahalanobis distance [1].\n",
    "    \n",
    "    Parameters\n",
    "    ----------\n",
    "    S : array-like, shape (n_elements, n_elements)\n",
    "        `S` is to be a symmetric, positive semidefinite matrix.\n",
    "        \n",
    "    Attributes\n",
    "    ----------\n",
    "    S : array-like, shape (n_elements, n_elements)\n",
    "        `S` is to be a symmetric, positive semidefinite matrix.\n",
    "        \n",
    "    References\n",
    "    ----------\n",
    "    [1] https://en.wikipedia.org/wiki/Mahalanobis_distance\n",
    "    \"\"\"\n",
    "    def __init__(self, S):\n",
    "        # TODO\n",
    "        \n",
    "    def __call__(self, a, b):\n",
    "        \"\"\"\n",
    "        Call method that determines the Mahalanobis distance \n",
    "        between `a` and `b`.\n",
    "        \n",
    "        Parameters\n",
    "        ----------\n",
    "        a : array-like, shape (n_elements)\n",
    "            First vector.\n",
    "        b : array-like, shape (n_elements)\n",
    "            Second vector.\n",
    "            \n",
    "        Returns\n",
    "        -------\n",
    "        p_norm : float\n",
    "            Computed Mahalanobis distance between the vectors `a` and `b`.\n",
    "        \"\"\"\n",
    "        # TODO\n",
    "    \n",
    "# Create two vectors `a` and `b`.\n",
    "a, b = np.array([1, 2]), np.array([2, 1])\n",
    "\n",
    "# Create matrix `S`.\n",
    "# TODO\n",
    "\n",
    "# Create Mahalanobis object with matrix `S`.\n",
    "# TODO\n",
    "\n",
    "# Compute Mahalanobis distance  between `a` and `b`.\n",
    "# TODO"
   ]
  },
  {
   "cell_type": "markdown",
   "metadata": {},
   "source": [
    "#### **Question:**\n",
    "2. (a) What happens if the covariance matrix $\\mathbf{S}$ is equal to the identity matrix $\\mathbf{I}$? Confirm your answer by using numpys `np.eye`.\n",
    "   \n",
    "   TODO"
   ]
  },
  {
   "cell_type": "code",
   "execution_count": null,
   "metadata": {},
   "outputs": [],
   "source": [
    "# Create two vectors `a` and `b`.\n",
    "a, b = np.array([1, 2]), np.array([2, 1])\n",
    "\n",
    "# Test your answer.\n",
    "# TODO"
   ]
  },
  {
   "cell_type": "markdown",
   "metadata": {},
   "source": [
    "### **3. Plotting with Matplotlib** <a class=\"anchor\" id=\"matplotlib\"></a>\n",
    "\n",
    "Use the provided `plot_distances` function to visualize your previously implemented distance functions.\n",
    "The `plot_distance` function takes an arbitrary distance function as input, which itself has two input parameters."
   ]
  },
  {
   "cell_type": "code",
   "execution_count": null,
   "metadata": {},
   "outputs": [],
   "source": [
    "def plot_distances(distf, x_coord=0, y_coord=0):\n",
    "    \"\"\"\n",
    "    Plot level contours of given distance function `distf` \n",
    "    around the development point `(x_coord, y_coord)`.\n",
    "\n",
    "    Parameters\n",
    "    ----------\n",
    "    distf : callabel with (a, b) -> d \n",
    "        A function taking two arrays `a` and `b` and returning a \n",
    "        positive distance measurement `d`.\n",
    "    x_coord : float\n",
    "        x-coordinate of a base point to develop the contour lines\n",
    "        around.\n",
    "    y_coord : float\n",
    "        y-coordinate of a base point to develop the contour lines\n",
    "        around.\n",
    "    \"\"\"\n",
    "    base = np.array([x_coord, y_coord])\n",
    "    X, Y = np.mgrid[-3:3:0.1, -3:3:0.1]\n",
    "    Z = np.zeros_like(X)\n",
    "    for i,_ in enumerate(X):\n",
    "        for j,_ in enumerate(Y):\n",
    "            x = X[i, j]\n",
    "            y = Y[i, j]\n",
    "            pt = np.asarray([x, y])\n",
    "            Z[i,j] = distf(pt, base)\n",
    "    levels = np.arange(0, 6, 0.25)\n",
    "    CS = plt.contour(X, Y, Z, levels=levels)\n",
    "    plt.clabel(CS, inline=1, fontsize=10)\n",
    "    plt.grid(True)"
   ]
  },
  {
   "cell_type": "markdown",
   "metadata": {},
   "source": [
    "- For the p-norm try different values for the value of `p` and plot the distance using the method `plot_distance`. "
   ]
  },
  {
   "cell_type": "code",
   "execution_count": null,
   "metadata": {},
   "outputs": [],
   "source": [
    "# Create figure with figsize=(20, 5).\n",
    "# TODO\n",
    "\n",
    "# Iterate over different values of p.\n",
    "for p in range(1, 5):\n",
    "    plt.subplot(1, 4, p)\n",
    "    plt.title('{}-Norm'.format(p))\n",
    "    \n",
    "    # Create PNorm object with `p=p`.\n",
    "    # TODO\n",
    "    \n",
    "    # Plot p-norm distances.\n",
    "    # TODO\n",
    "    \n",
    "# Show figure.\n",
    "# TODO"
   ]
  },
  {
   "cell_type": "markdown",
   "metadata": {},
   "source": [
    "- For the Mahalanobis distance try different values for the covariance matrix `S` and plot the distance using the method `plot_distance`. "
   ]
  },
  {
   "cell_type": "code",
   "execution_count": null,
   "metadata": {},
   "outputs": [],
   "source": [
    "# Create list of covariance matrices.\n",
    "all_S = [\n",
    "    [[1, 0], [0, 1]],\n",
    "    [[2, 1.9], [1.9, 2]],\n",
    "    [[1, .5], [.1, 1]],\n",
    "    [[3, 0], [0, .1]],\n",
    "# TODO\n",
    "\n",
    "# Create figure with figsize=(20, 5).\n",
    "# TODO\n",
    "\n",
    "# Iterate over all covariance matrices.\n",
    "for i, S in enumerate(all_S):\n",
    "    plt.subplot(1, 4, i+1)\n",
    "    plt.title('S = {}'.format(S))\n",
    "    \n",
    "    # Create Mahalanobis distance object with `S=S`.\n",
    "    # TODO\n",
    "    \n",
    "    # Plot Mahalanobis distances.\n",
    "    # TODO\n",
    "\n",
    "# Show figure.\n",
    "# TODO"
   ]
  },
  {
   "cell_type": "markdown",
   "metadata": {},
   "source": [
    "### **4. Optimization with SciPy** <a class=\"anchor\" id=\"scipy\"></a>\n",
    "\n",
    "As mentioned, SciPy offers several modules for scientific computing. One central module is `optimization`. In this section, we will show a use-case of this module by applying one of its optimization algorithms to minimize the so-called [Rosenbrock function](https://en.wikipedia.org/wiki/Rosenbrock_function). Here, we will consider a special parametrization of it:\n",
    "\n",
    "\\begin{equation}\n",
    "    f(\\mathbf{x}) = f((x_0, x_1)^\\mathrm{T}) = (1 - x_0)^2 + 100(x_1 - x_0^2)^2,\n",
    "\\end{equation}\n",
    "\n",
    "whose minimum value of zero is given by \n",
    "\n",
    "\\begin{equation}\n",
    "\\mathbf{x}^* = \\text{arg min}_{\\mathbf{x} \\in \\mathbb{R^2}}(f(\\mathbf{x})) = \\begin{bmatrix} 1 \\\\ 1 \\end{bmatrix}. \n",
    "\\end{equation}\n",
    "\n",
    "In a first step, we will implement this function and visualize it through a contour plot."
   ]
  },
  {
   "cell_type": "code",
   "execution_count": null,
   "metadata": {},
   "outputs": [],
   "source": [
    "def rosenbrock(x):\n",
    "    \"\"\"\n",
    "    Evaluates the Rosenbrock function [1] for a given vector `x`.\n",
    "    \n",
    "    Parameters\n",
    "    ----------\n",
    "    x : array-like, shape (2)\n",
    "        The coordinates at which the Rosenbrock function is\n",
    "        to be evaluated.\n",
    "        \n",
    "    Returns\n",
    "    -------\n",
    "    f_x : float\n",
    "        Evaluation of Rosenbrock function, i.e, `f_x = f(x)`.\n",
    "        \n",
    "    References\n",
    "    ----------\n",
    "    [1] https://en.wikipedia.org/wiki/Rosenbrock_function\n",
    "    \"\"\"\n",
    "    # TODO\n",
    "    \n",
    "def plot_contours(func):\n",
    "    \"\"\"\n",
    "    Plot level contours of given function `func`.\n",
    "\n",
    "    Parameters\n",
    "    ----------\n",
    "    func : callabel with (x0, x1) -> f_x \n",
    "        A function taking two values `x0` and `x1`\n",
    "        and returning a numeric value `f_x`.\n",
    "    \"\"\"\n",
    "    # Create mesh grid.\n",
    "    X, Y = np.mgrid[-2:2:0.1, -1:4:0.1]\n",
    "    \n",
    "    # Evaluate function on mesh grid.\n",
    "    # TODO\n",
    "    \n",
    "    # Contour plot\n",
    "    CS = plt.contourf(X, Y, Z, levels=np.logspace(-1, 3, 10), alpha=0.5)\n",
    "    plt.colorbar(CS)\n",
    "    plt.xlabel('$x_0$', fontsize=14)\n",
    "    plt.ylabel('$x_1$', fontsize=14)\n",
    "    plt.grid(True)\n",
    "\n",
    "plt.figure(figsize=(10, 8))\n",
    "plt.suptitle('Contour Plot of Rosenbrock Function', y=0.91, fontsize=16)\n",
    "plot_contours(func=rosenbrock)\n",
    "plt.show()"
   ]
  },
  {
   "cell_type": "markdown",
   "metadata": {},
   "source": [
    "We want to determine its minimum through the use of the function `scipy.optimize.minimize` in combination with the [Newton conjugate gradient method](https://en.wikipedia.org/wiki/Nonlinear_conjugate_gradient_method) as optimization algorithm. Therefor, we determine the gradient and the Hessian matrix of the Rosenbrock function:\n",
    "\n",
    "- the gradient is computed according to\n",
    "    \\begin{equation}\n",
    "    \\boldsymbol{\\nabla}f(\\mathbf{x}) = \\begin{bmatrix} -400x_0x_1 + 400x_0^3 +  2x_0 -2 \\\\ 200x_1 - 200x_0^2 \\end{bmatrix},\n",
    "    \\end{equation}\n",
    "- and the Hessian matrix is computed according to\n",
    "    \\begin{equation}\n",
    "     \\boldsymbol{\\nabla}^2f(\\mathbf{x})= \\begin{bmatrix} -400x_1 + 1200x_0^2 +  2 & -400x_0 \\\\ -400x_0 & 200 \\end{bmatrix}.\n",
    "    \\end{equation}\n",
    "    \n",
    "Both are to be implemented as functions below."
   ]
  },
  {
   "cell_type": "code",
   "execution_count": null,
   "metadata": {},
   "outputs": [],
   "source": [
    "def grad_rosenbrock(x):\n",
    "    \"\"\"\n",
    "    Evaluates the gradient of the Rosenbrock function [1] \n",
    "    for given vector `x`.\n",
    "    \n",
    "    Parameters\n",
    "    ----------\n",
    "    x : array-like, shape (2)\n",
    "        The coordinates at which the gradient of the \n",
    "        Rosenbrock function is to be evaluated.\n",
    "        \n",
    "    Returns\n",
    "    -------\n",
    "    grad : ndarray, shape (2)\n",
    "        Gradient of Rosenbrock function, i.e, `grad = f'(x)`.\n",
    "        \n",
    "    References\n",
    "    ----------\n",
    "    [1] https://en.wikipedia.org/wiki/Rosenbrock_function\n",
    "    \"\"\"\n",
    "    # TODO\n",
    "\n",
    "def hessian_rosenbrock(x):\n",
    "    \"\"\"\n",
    "    Evaluates the Hessian matrix of Rosenbrock function [1] \n",
    "    for given vector `x`.\n",
    "    \n",
    "    Parameters\n",
    "    ----------\n",
    "    x : array-like, shape (2)\n",
    "        The coordinates at which the Hessian matrix of the \n",
    "        Rosenbrock function is to be evaluated.\n",
    "        \n",
    "    Returns\n",
    "    -------\n",
    "    H : ndarray, shape (2, 2)\n",
    "        Hessian matrix of Rosenbrock function, i.e, `H = f''(x)`.\n",
    "        \n",
    "    References\n",
    "    ----------\n",
    "    [1] https://en.wikipedia.org/wiki/Rosenbrock_function\n",
    "    \"\"\"\n",
    "    # TODO\n"
   ]
  },
  {
   "cell_type": "markdown",
   "metadata": {},
   "source": [
    "Now, we have almost all ingredients to perform the optimization with the help of `scipy.optimize.minimize`. The only missing ingredient is a starting point, which we define as \n",
    "\n",
    "\\begin{equation}\n",
    "\\mathbf{x}_0 = \\begin{bmatrix} -1 \\\\ 3 \\end{bmatrix}.\n",
    "\\end{equation}"
   ]
  },
  {
   "cell_type": "code",
   "execution_count": null,
   "metadata": {},
   "outputs": [],
   "source": [
    "# Define starting point.\n",
    "# TODO\n",
    "\n",
    "# Execute minimization.\n",
    "res = scipy.optimize.minimize(fun=rosenbrock, x0=x0, jac=grad_rosenbrock, \n",
    "                              hess=hessian_rosenbrock, method='Newton-CG', \n",
    "                              options={'return_all': True})\n",
    "\n",
    "# Determine interim solutions. You may look up documentation\n",
    "# of `scipy.optimize.minimize` and the method `Newton-CG`.\n",
    "# TODO\n",
    "\n",
    "# Get final solution for minimum.\n",
    "# TODO\n",
    "\n",
    "# Plot Rosenbrock function with interim solutions found by Newton-CG.\n",
    "plt.figure(figsize=(10, 8))\n",
    "title = 'Newton-CG of Rosenbrock Function with Solution: $\\mathbf{x}^*=('\\\n",
    "        + str(round(x_final[0], 4)) + ',' + str(round(x_final[1], 4)) + ')^\\mathrm{T}$'\n",
    "plt.suptitle(title, y=0.92, fontsize=16)\n",
    "plot_contours(func=rosenbrock)\n",
    "anglesx0 = interim_solutions[1:, 0] - interim_solutions[:-1, 0]\n",
    "anglesx1 = interim_solutions[1:, 1] - interim_solutions[:-1, 1]\n",
    "plt.scatter(interim_solutions[:, 0], interim_solutions[:, 1], marker='x', color='r')\n",
    "plt.quiver(interim_solutions[:-1, 0], interim_solutions[:-1, 1], anglesx0, anglesx1, \n",
    "           scale_units='xy', angles='xy', scale=1, color='r')\n",
    "plt.show()"
   ]
  },
  {
   "cell_type": "markdown",
   "metadata": {},
   "source": [
    "### **5. Classification with Scikit-learn** <a class=\"anchor\" id=\"scikit-learn\"></a>"
   ]
  },
  {
   "cell_type": "markdown",
   "metadata": {},
   "source": [
    "Scikit-learn provides a range of supervised and unsupervised learning algorithms via a consistent interface in Python. \n",
    "You can find detailed information in the corresponding [user guide](https://scikit-learn.org/stable/user_guide.html).\n",
    "\n",
    "In this brief tutorial, we provide an example for fitting a logistic regression model as classifier on a simple data set.\n",
    "In the first step, we load a data set, which consists of handwritten images in our case."
   ]
  },
  {
   "cell_type": "code",
   "execution_count": null,
   "metadata": {
    "tags": []
   },
   "outputs": [],
   "source": [
    "from sklearn.datasets import load_digits\n",
    "digits = load_digits()\n",
    "\n",
    "# Normalize data to range 0 to 1.\n",
    "digits.data /= 255"
   ]
  },
  {
   "cell_type": "markdown",
   "metadata": {},
   "source": [
    "In the second step, we explor the dimensions of this data set by printing the number of images and the number of pixels in each image."
   ]
  },
  {
   "cell_type": "code",
   "execution_count": null,
   "metadata": {},
   "outputs": [],
   "source": [
    "# TODO"
   ]
  },
  {
   "cell_type": "markdown",
   "metadata": {},
   "source": [
    "In the third step, we investigate the classes of the data set. Therefor, we plot the set of class labels."
   ]
  },
  {
   "cell_type": "code",
   "execution_count": null,
   "metadata": {
    "tags": []
   },
   "outputs": [],
   "source": [
    "# TODO"
   ]
  },
  {
   "cell_type": "markdown",
   "metadata": {},
   "source": [
    "To get a better intuition, we visualize the data sets by plotting the 8x8 images of several digits."
   ]
  },
  {
   "cell_type": "code",
   "execution_count": null,
   "metadata": {},
   "outputs": [],
   "source": [
    "plt.figure(figsize=(20 ,4))\n",
    "for index, (image, label) in enumerate(zip(digits.data[0:5], digits.target[0:5])):\n",
    "    plt.subplot(1, 5, index + 1)\n",
    "    \n",
    "    # Reshape image to 8x8 array.\n",
    "    # TODO\n",
    "    \n",
    "    # Use `imshow` to visualize the image.\n",
    "    # TODO\n",
    "    \n",
    "    plt.title(f'Label: {label}', fontsize=20)"
   ]
  },
  {
   "cell_type": "markdown",
   "metadata": {},
   "source": [
    "To obtain a reasonable accuracy estimate for our classifier, we split the dataset into 80% train and 20% test data."
   ]
  },
  {
   "cell_type": "code",
   "execution_count": null,
   "metadata": {},
   "outputs": [],
   "source": [
    "from sklearn.model_selection import train_test_split\n",
    "# TODO"
   ]
  },
  {
   "cell_type": "markdown",
   "metadata": {},
   "source": [
    "Finally, we use the `scikit-learn` four-step modeling pattern.\n",
    "\n",
    "1. Import desired classification model."
   ]
  },
  {
   "cell_type": "code",
   "execution_count": null,
   "metadata": {},
   "outputs": [],
   "source": [
    "# 1. Import logistic regression model.\n",
    "from sklearn.linear_model import LogisticRegression"
   ]
  },
  {
   "cell_type": "markdown",
   "metadata": {},
   "source": [
    "2. Create object of the classification model."
   ]
  },
  {
   "cell_type": "code",
   "execution_count": null,
   "metadata": {},
   "outputs": [],
   "source": [
    "# 2. Create an object of the logistic regression model.\n",
    "# TODO"
   ]
  },
  {
   "cell_type": "markdown",
   "metadata": {},
   "source": [
    "3. Train the classification model on the train data."
   ]
  },
  {
   "cell_type": "code",
   "execution_count": null,
   "metadata": {},
   "outputs": [],
   "source": [
    "# 3. Train the logistic regression model on the 80% digit train set.\n",
    "# TODO"
   ]
  },
  {
   "cell_type": "markdown",
   "metadata": {},
   "source": [
    "4. Evaluate trained classification model on the test data."
   ]
  },
  {
   "cell_type": "code",
   "execution_count": null,
   "metadata": {
    "tags": []
   },
   "outputs": [],
   "source": [
    "# 4. Evaluate the logistic regression model on the 20% digit test data. \n",
    "\n",
    "# Predict labels for the test data.\n",
    "# TODO\n",
    "\n",
    "# Print accuracy on test data.\n",
    "# TODO\n",
    "\n",
    "# Print predictions and true class labels for the first ten test images.\n",
    "plt.figure(figsize=(20, 4))\n",
    "for index, (image, pred, label) in enumerate(zip(X_test[0:10], y_pred[0:10], y_test[0:10])):\n",
    "    plt.subplot(1, 10, index + 1)\n",
    "    \n",
    "    # Reshape image to 8x8 array.\n",
    "    # TODO\n",
    "    \n",
    "    # Use `imshow` to visualize the image.\n",
    "    # TODO\n",
    "    \n",
    "    plt.title('Prediction: {}\\n Label: {}'.format(pred, label), fontsize=12)"
   ]
  },
  {
   "cell_type": "markdown",
   "metadata": {},
   "source": [
    "### **6. Version Control via Git** <a class=\"anchor\" id=\"git\"></a>\n",
    "Git is easy to learn and has a tiny footprint with lightning-fast performance.\n",
    "\n",
    "To use it, you need to install it on your machine according the [installation guide](https://git-scm.com/book/en/v2/Getting-Started-Installing-Git).\n",
    "\n",
    "As a platform, we recommend [GitHub](https://github.com/), where you can create your own account. If you have an account, you can upload this project to GitHub as a repository to control and manage your implementations.\n",
    "This project should be a private one. Otherwise, your repository will be publicly available on the Internet. \n",
    "\n",
    "This [guide](https://guides.github.com/activities/hello-world/) can help you to set up your repository on GitHub."
   ]
  }
 ],
 "metadata": {
  "kernelspec": {
   "display_name": "Python 3 (ipykernel)",
   "language": "python",
   "name": "python3"
  },
  "language_info": {
   "codemirror_mode": {
    "name": "ipython",
    "version": 3
   },
   "file_extension": ".py",
   "mimetype": "text/x-python",
   "name": "python",
   "nbconvert_exporter": "python",
   "pygments_lexer": "ipython3",
   "version": "3.9.6"
  }
 },
 "nbformat": 4,
 "nbformat_minor": 4
}
