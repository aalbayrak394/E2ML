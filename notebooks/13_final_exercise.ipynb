{
 "cells": [
  {
   "attachments": {},
   "cell_type": "markdown",
   "id": "1c70fa63-b796-4b94-b670-0e98bb66a5a1",
   "metadata": {},
   "source": [
    "# Final Excercise\n",
    "\n",
    "In this notebook, you will find the last exercise of the lecture:\n",
    "You are handed an initial dataset with several features and a univariate target. Next, you have to decide how to proceed. Since you do not have enough data to yet construct a classifier/predictor of any sensible evaluation metrics, the first task is, therefore, to acquire more data. For this purpose you can obtain batches of data according to your own design of experiments, so you will need to decide which experiments you consider necessary to perform. \n",
    "\n",
    "You will have four opportunities to acquire more data. Each time you have to decide which experiments to run and send those to Franz Götz-Hahn as a CSV file. The deadlines are 16.06.2023, 23.06.2023, 30.06.2023, and 07.07.2023 and 12:00 (noon). The format in all cases is a table with one row for each choosable feature, and the column entries corresponding to the desired values. Each individual sample will take approximately 30min, so pick a reasonable amount of experiments. For example, you will get the result for 100 experiments roughly 50 hours after the respective deadline. Should the experiment not be conductible, you will get a ``None`` as a result, e.g., if a feature value is out of range.\n",
    "\n",
    "Once you have your data, you should compare the performance of different classifiers in predicting the targets. The classifiers to compare are [RandomForestClassifier](https://scikit-learn.org/stable/modules/generated/sklearn.ensemble.RandomForestClassifier.html), [SVC](https://scikit-learn.org/stable/modules/generated/sklearn.svm.SVC.html#sklearn.svm.SVC), and [MLPClassifier](https://scikit-learn.org/stable/modules/generated/sklearn.neural_network.MLPClassifier.html). You should utilize all the different parts of the E2ML lecture that you considern appropriate. This could include Data Preprocessing, Design of Experiments for the batches, deciding on Performance Measures, Statistical Significance Testing of a hypothesis, Design of Experiments for Hyperparameter Optimization.\n",
    "\n",
    "Should you wish to present the results from this excercise in the oral examination, you need to hand in your entire package until 14.07.2023-23:59 as a GitHub Repository. Send the link to the (public) repository to Franz Götz-Hahn via [E-Mail](mailto:franz.goetz-hahn@uni-kassel.de). Please use the README of the repository to describe the structure of the package, include any required packages in the setup.py, add the data in the data subfolder, save any results in the results subfolder, and include a _descriptive_ jupyter notebook in the notebooks subfolder.\n",
    "\n",
    "Do note, that the point of this excercise is **not** to achieve the best performance of your models, but rather to document your process and give the motivation behind your chosen approaches, _even the ones that failed_."
   ]
  },
  {
   "cell_type": "code",
   "execution_count": 18,
   "id": "3cbb5690-6d49-42df-bf4b-db120f76c893",
   "metadata": {},
   "outputs": [],
   "source": [
    "import matplotlib.pyplot as plt\n",
    "import numpy as np\n",
    "import pandas as pd\n",
    "from sklearn.preprocessing import LabelEncoder\n",
    "from e2ml.preprocessing import StandardScaler"
   ]
  },
  {
   "attachments": {},
   "cell_type": "markdown",
   "id": "a8e495a7",
   "metadata": {},
   "source": [
    "### **Mollusc Classification** <a class=\"anchor\" id=\"heart\"></a>\n",
    "\n",
    "Your dataset describes some physical measurements of a specific type of molluscs. Your goal is to predict the `Stage of Life` of the mollusc. The data you can get looks as follows:\n",
    "\n",
    "\n",
    "| Sex\t|Length\t|Width\t|Height|\tWeight\t|Non_Shell Weight\t|Intestine Weight\t|Shell Weight\t|Stage of Life |\n",
    "| ---                           | ----   | ----    | ----    | ----   |----             |----    |---- | ---------- |\n",
    "| {Male (M), Female (F), Indeterminate (I)} | float (inches)     | float (inches)     |  float (inches)     | float (gram)      | float (gram)              | float (gram)     |  float (gram)     | {Child, Adolescent (Adole), Adult}      |\n",
    "\n",
    "The table headings are identical to the column names in the corresponding CSV-files. \n",
    "\n",
    "We can send out divers that look for molluscs that fit your needs, which will subsequently be analyzed in a laboratory. You can request molluscs with all features except the Stage of Life attribute, as it is the target. The first day of diving has already been completed. After 8 hours of diving, they brought up the following molluscs:"
   ]
  },
  {
   "cell_type": "code",
   "execution_count": 19,
   "id": "8435dbee",
   "metadata": {},
   "outputs": [
    {
     "data": {
      "text/html": [
       "<div>\n",
       "<style scoped>\n",
       "    .dataframe tbody tr th:only-of-type {\n",
       "        vertical-align: middle;\n",
       "    }\n",
       "\n",
       "    .dataframe tbody tr th {\n",
       "        vertical-align: top;\n",
       "    }\n",
       "\n",
       "    .dataframe thead th {\n",
       "        text-align: right;\n",
       "    }\n",
       "</style>\n",
       "<table border=\"1\" class=\"dataframe\">\n",
       "  <thead>\n",
       "    <tr style=\"text-align: right;\">\n",
       "      <th></th>\n",
       "      <th>Sex</th>\n",
       "      <th>Length</th>\n",
       "      <th>Width</th>\n",
       "      <th>Height</th>\n",
       "      <th>Weight</th>\n",
       "      <th>Non_Shell Weight</th>\n",
       "      <th>Intestine Weight</th>\n",
       "      <th>Shell Weight</th>\n",
       "      <th>Stage of Life</th>\n",
       "    </tr>\n",
       "  </thead>\n",
       "  <tbody>\n",
       "    <tr>\n",
       "      <th>0</th>\n",
       "      <td>F</td>\n",
       "      <td>0.450</td>\n",
       "      <td>0.345</td>\n",
       "      <td>0.120</td>\n",
       "      <td>0.4165</td>\n",
       "      <td>0.1655</td>\n",
       "      <td>0.0950</td>\n",
       "      <td>0.1350</td>\n",
       "      <td>Adult</td>\n",
       "    </tr>\n",
       "    <tr>\n",
       "      <th>1</th>\n",
       "      <td>F</td>\n",
       "      <td>0.475</td>\n",
       "      <td>0.380</td>\n",
       "      <td>0.145</td>\n",
       "      <td>0.5700</td>\n",
       "      <td>0.1670</td>\n",
       "      <td>0.1180</td>\n",
       "      <td>0.1870</td>\n",
       "      <td>Adole</td>\n",
       "    </tr>\n",
       "    <tr>\n",
       "      <th>2</th>\n",
       "      <td>M</td>\n",
       "      <td>0.610</td>\n",
       "      <td>0.485</td>\n",
       "      <td>0.170</td>\n",
       "      <td>1.0225</td>\n",
       "      <td>0.4190</td>\n",
       "      <td>0.2405</td>\n",
       "      <td>0.3600</td>\n",
       "      <td>Adult</td>\n",
       "    </tr>\n",
       "    <tr>\n",
       "      <th>3</th>\n",
       "      <td>I</td>\n",
       "      <td>0.430</td>\n",
       "      <td>0.340</td>\n",
       "      <td>0.105</td>\n",
       "      <td>0.4405</td>\n",
       "      <td>0.2385</td>\n",
       "      <td>0.0745</td>\n",
       "      <td>0.1075</td>\n",
       "      <td>Adole</td>\n",
       "    </tr>\n",
       "    <tr>\n",
       "      <th>4</th>\n",
       "      <td>M</td>\n",
       "      <td>0.205</td>\n",
       "      <td>0.155</td>\n",
       "      <td>0.045</td>\n",
       "      <td>0.0425</td>\n",
       "      <td>0.0170</td>\n",
       "      <td>0.0055</td>\n",
       "      <td>0.0155</td>\n",
       "      <td>Adult</td>\n",
       "    </tr>\n",
       "    <tr>\n",
       "      <th>5</th>\n",
       "      <td>M</td>\n",
       "      <td>0.600</td>\n",
       "      <td>0.475</td>\n",
       "      <td>0.175</td>\n",
       "      <td>1.3445</td>\n",
       "      <td>0.5490</td>\n",
       "      <td>0.2875</td>\n",
       "      <td>0.3600</td>\n",
       "      <td>Child</td>\n",
       "    </tr>\n",
       "    <tr>\n",
       "      <th>6</th>\n",
       "      <td>I</td>\n",
       "      <td>0.515</td>\n",
       "      <td>0.390</td>\n",
       "      <td>0.110</td>\n",
       "      <td>0.5310</td>\n",
       "      <td>0.2415</td>\n",
       "      <td>0.0980</td>\n",
       "      <td>0.1615</td>\n",
       "      <td>Adult</td>\n",
       "    </tr>\n",
       "    <tr>\n",
       "      <th>7</th>\n",
       "      <td>F</td>\n",
       "      <td>0.625</td>\n",
       "      <td>0.495</td>\n",
       "      <td>0.160</td>\n",
       "      <td>1.1115</td>\n",
       "      <td>0.4495</td>\n",
       "      <td>0.2825</td>\n",
       "      <td>0.3450</td>\n",
       "      <td>Child</td>\n",
       "    </tr>\n",
       "    <tr>\n",
       "      <th>8</th>\n",
       "      <td>F</td>\n",
       "      <td>0.650</td>\n",
       "      <td>0.520</td>\n",
       "      <td>0.195</td>\n",
       "      <td>1.6275</td>\n",
       "      <td>0.6890</td>\n",
       "      <td>0.3905</td>\n",
       "      <td>0.4320</td>\n",
       "      <td>Adult</td>\n",
       "    </tr>\n",
       "    <tr>\n",
       "      <th>9</th>\n",
       "      <td>F</td>\n",
       "      <td>0.620</td>\n",
       "      <td>0.480</td>\n",
       "      <td>0.165</td>\n",
       "      <td>1.0430</td>\n",
       "      <td>0.4835</td>\n",
       "      <td>0.2210</td>\n",
       "      <td>0.3100</td>\n",
       "      <td>Adult</td>\n",
       "    </tr>\n",
       "    <tr>\n",
       "      <th>10</th>\n",
       "      <td>F</td>\n",
       "      <td>0.535</td>\n",
       "      <td>0.450</td>\n",
       "      <td>0.135</td>\n",
       "      <td>0.8075</td>\n",
       "      <td>0.3220</td>\n",
       "      <td>0.1810</td>\n",
       "      <td>0.2500</td>\n",
       "      <td>Adole</td>\n",
       "    </tr>\n",
       "    <tr>\n",
       "      <th>11</th>\n",
       "      <td>I</td>\n",
       "      <td>0.385</td>\n",
       "      <td>0.280</td>\n",
       "      <td>0.090</td>\n",
       "      <td>0.2280</td>\n",
       "      <td>0.1025</td>\n",
       "      <td>0.0420</td>\n",
       "      <td>0.0655</td>\n",
       "      <td>Adult</td>\n",
       "    </tr>\n",
       "    <tr>\n",
       "      <th>12</th>\n",
       "      <td>F</td>\n",
       "      <td>0.680</td>\n",
       "      <td>0.560</td>\n",
       "      <td>0.195</td>\n",
       "      <td>1.7775</td>\n",
       "      <td>0.8610</td>\n",
       "      <td>0.3220</td>\n",
       "      <td>0.4150</td>\n",
       "      <td>Adole</td>\n",
       "    </tr>\n",
       "    <tr>\n",
       "      <th>13</th>\n",
       "      <td>F</td>\n",
       "      <td>0.585</td>\n",
       "      <td>0.415</td>\n",
       "      <td>0.155</td>\n",
       "      <td>0.6985</td>\n",
       "      <td>0.3000</td>\n",
       "      <td>0.1460</td>\n",
       "      <td>0.1950</td>\n",
       "      <td>Adole</td>\n",
       "    </tr>\n",
       "    <tr>\n",
       "      <th>14</th>\n",
       "      <td>M</td>\n",
       "      <td>0.525</td>\n",
       "      <td>0.435</td>\n",
       "      <td>0.155</td>\n",
       "      <td>1.0650</td>\n",
       "      <td>0.4860</td>\n",
       "      <td>0.2330</td>\n",
       "      <td>0.2850</td>\n",
       "      <td>Adult</td>\n",
       "    </tr>\n",
       "    <tr>\n",
       "      <th>15</th>\n",
       "      <td>M</td>\n",
       "      <td>0.660</td>\n",
       "      <td>0.545</td>\n",
       "      <td>0.185</td>\n",
       "      <td>1.3200</td>\n",
       "      <td>0.5305</td>\n",
       "      <td>0.2635</td>\n",
       "      <td>0.4550</td>\n",
       "      <td>Child</td>\n",
       "    </tr>\n",
       "  </tbody>\n",
       "</table>\n",
       "</div>"
      ],
      "text/plain": [
       "   Sex  Length  Width  Height  Weight  Non_Shell Weight  Intestine Weight  \\\n",
       "0    F   0.450  0.345   0.120  0.4165            0.1655            0.0950   \n",
       "1    F   0.475  0.380   0.145  0.5700            0.1670            0.1180   \n",
       "2    M   0.610  0.485   0.170  1.0225            0.4190            0.2405   \n",
       "3    I   0.430  0.340   0.105  0.4405            0.2385            0.0745   \n",
       "4    M   0.205  0.155   0.045  0.0425            0.0170            0.0055   \n",
       "5    M   0.600  0.475   0.175  1.3445            0.5490            0.2875   \n",
       "6    I   0.515  0.390   0.110  0.5310            0.2415            0.0980   \n",
       "7    F   0.625  0.495   0.160  1.1115            0.4495            0.2825   \n",
       "8    F   0.650  0.520   0.195  1.6275            0.6890            0.3905   \n",
       "9    F   0.620  0.480   0.165  1.0430            0.4835            0.2210   \n",
       "10   F   0.535  0.450   0.135  0.8075            0.3220            0.1810   \n",
       "11   I   0.385  0.280   0.090  0.2280            0.1025            0.0420   \n",
       "12   F   0.680  0.560   0.195  1.7775            0.8610            0.3220   \n",
       "13   F   0.585  0.415   0.155  0.6985            0.3000            0.1460   \n",
       "14   M   0.525  0.435   0.155  1.0650            0.4860            0.2330   \n",
       "15   M   0.660  0.545   0.185  1.3200            0.5305            0.2635   \n",
       "\n",
       "    Shell Weight Stage of Life  \n",
       "0         0.1350         Adult  \n",
       "1         0.1870         Adole  \n",
       "2         0.3600         Adult  \n",
       "3         0.1075         Adole  \n",
       "4         0.0155         Adult  \n",
       "5         0.3600         Child  \n",
       "6         0.1615         Adult  \n",
       "7         0.3450         Child  \n",
       "8         0.4320         Adult  \n",
       "9         0.3100         Adult  \n",
       "10        0.2500         Adole  \n",
       "11        0.0655         Adult  \n",
       "12        0.4150         Adole  \n",
       "13        0.1950         Adole  \n",
       "14        0.2850         Adult  \n",
       "15        0.4550         Child  "
      ]
     },
     "execution_count": 19,
     "metadata": {},
     "output_type": "execute_result"
    }
   ],
   "source": [
    "initial_molluscs_data = pd.read_csv('../data/initial_molluscs_data.csv')\n",
    "initial_molluscs_data"
   ]
  },
  {
   "cell_type": "code",
   "execution_count": 20,
   "id": "819e777e",
   "metadata": {},
   "outputs": [],
   "source": [
    "# Convert nominal feature to numerical\n",
    "lbl_encoder = LabelEncoder()\n",
    "initial_molluscs_data['Sex'] = lbl_encoder.fit_transform(initial_molluscs_data['Sex'])\n",
    "\n",
    "# Seperate X and y\n",
    "X = initial_molluscs_data.iloc[:, :8]\n",
    "y = initial_molluscs_data.iloc[:, 8]"
   ]
  },
  {
   "cell_type": "code",
   "execution_count": 21,
   "id": "267eaf0e",
   "metadata": {},
   "outputs": [
    {
     "data": {
      "image/png": "[encoded data removed]",
      "text/plain": [
       "<Figure size 700x200 with 1 Axes>"
      ]
     },
     "metadata": {},
     "output_type": "display_data"
    }
   ],
   "source": [
    "# Standardize dataset\n",
    "scaler = StandardScaler()\n",
    "scaler.fit(X)\n",
    "X_std = scaler.transform(X)\n",
    "\n",
    "# Plot scaled data\n",
    "x = X_std[:, 1]\n",
    "plt.figure(figsize=(7,2))\n",
    "plt.scatter(x=x, y=np.zeros_like(x))\n",
    "plt.show()"
   ]
  },
  {
   "cell_type": "code",
   "execution_count": 22,
   "id": "7f9f714f",
   "metadata": {},
   "outputs": [],
   "source": [
    "from e2ml.experimentation import lat_hyp_cube\n",
    "\n",
    "n_samples = 260\n",
    "bounds = [[-2, 2] for _ in range(8)]\n",
    "\n",
    "# Generate 100 samples with latin hypercube\n",
    "X_latin = lat_hyp_cube(n_samples=n_samples, n_dimensions=8, bounds=bounds)\n",
    "\n",
    "# Use random discrete values for nominal feature\n",
    "X_latin[:, 0] = np.random.choice(np.unique(X_std[:, 0]), size=n_samples)"
   ]
  },
  {
   "cell_type": "code",
   "execution_count": 23,
   "id": "d2e245c6",
   "metadata": {},
   "outputs": [
    {
     "ename": "TypeError",
     "evalue": "Index(...) must be called with a collection of some kind, False was passed",
     "output_type": "error",
     "traceback": [
      "\u001b[0;31m---------------------------------------------------------------------------\u001b[0m",
      "\u001b[0;31mTypeError\u001b[0m                                 Traceback (most recent call last)",
      "Cell \u001b[0;32mIn[23], line 4\u001b[0m\n\u001b[1;32m      1\u001b[0m \u001b[39m# Reconstruct design matrix\u001b[39;00m\n\u001b[1;32m      2\u001b[0m X_rec \u001b[39m=\u001b[39m scaler\u001b[39m.\u001b[39minverse_transform(X_latin)\n\u001b[0;32m----> 4\u001b[0m design_df \u001b[39m=\u001b[39m pd\u001b[39m.\u001b[39;49mDataFrame(data\u001b[39m=\u001b[39;49mX_rec, columns\u001b[39m=\u001b[39;49mX\u001b[39m.\u001b[39;49mcolumns, index\u001b[39m=\u001b[39;49m\u001b[39mFalse\u001b[39;49;00m)\n\u001b[1;32m      5\u001b[0m design_df[\u001b[39m'\u001b[39m\u001b[39mSex\u001b[39m\u001b[39m'\u001b[39m] \u001b[39m=\u001b[39m design_df[\u001b[39m'\u001b[39m\u001b[39mSex\u001b[39m\u001b[39m'\u001b[39m]\u001b[39m.\u001b[39mastype(\u001b[39mint\u001b[39m)\n\u001b[1;32m      7\u001b[0m \u001b[39m# Decode nominal features\u001b[39;00m\n",
      "File \u001b[0;32m~/anaconda3/envs/e2ml-env/lib/python3.9/site-packages/pandas/core/frame.py:672\u001b[0m, in \u001b[0;36mDataFrame.__init__\u001b[0;34m(self, data, index, columns, dtype, copy)\u001b[0m\n\u001b[1;32m    662\u001b[0m         mgr \u001b[39m=\u001b[39m dict_to_mgr(\n\u001b[1;32m    663\u001b[0m             \u001b[39m# error: Item \"ndarray\" of \"Union[ndarray, Series, Index]\" has no\u001b[39;00m\n\u001b[1;32m    664\u001b[0m             \u001b[39m# attribute \"name\"\u001b[39;00m\n\u001b[0;32m   (...)\u001b[0m\n\u001b[1;32m    669\u001b[0m             typ\u001b[39m=\u001b[39mmanager,\n\u001b[1;32m    670\u001b[0m         )\n\u001b[1;32m    671\u001b[0m     \u001b[39melse\u001b[39;00m:\n\u001b[0;32m--> 672\u001b[0m         mgr \u001b[39m=\u001b[39m ndarray_to_mgr(\n\u001b[1;32m    673\u001b[0m             data,\n\u001b[1;32m    674\u001b[0m             index,\n\u001b[1;32m    675\u001b[0m             columns,\n\u001b[1;32m    676\u001b[0m             dtype\u001b[39m=\u001b[39;49mdtype,\n\u001b[1;32m    677\u001b[0m             copy\u001b[39m=\u001b[39;49mcopy,\n\u001b[1;32m    678\u001b[0m             typ\u001b[39m=\u001b[39;49mmanager,\n\u001b[1;32m    679\u001b[0m         )\n\u001b[1;32m    681\u001b[0m \u001b[39m# For data is list-like, or Iterable (will consume into list)\u001b[39;00m\n\u001b[1;32m    682\u001b[0m \u001b[39melif\u001b[39;00m is_list_like(data):\n",
      "File \u001b[0;32m~/anaconda3/envs/e2ml-env/lib/python3.9/site-packages/pandas/core/internals/construction.py:320\u001b[0m, in \u001b[0;36mndarray_to_mgr\u001b[0;34m(values, index, columns, dtype, copy, typ)\u001b[0m\n\u001b[1;32m    317\u001b[0m     values \u001b[39m=\u001b[39m values\u001b[39m.\u001b[39mreshape(shape)\n\u001b[1;32m    319\u001b[0m \u001b[39m# _prep_ndarray ensures that values.ndim == 2 at this point\u001b[39;00m\n\u001b[0;32m--> 320\u001b[0m index, columns \u001b[39m=\u001b[39m _get_axes(\n\u001b[1;32m    321\u001b[0m     values\u001b[39m.\u001b[39;49mshape[\u001b[39m0\u001b[39;49m], values\u001b[39m.\u001b[39;49mshape[\u001b[39m1\u001b[39;49m], index\u001b[39m=\u001b[39;49mindex, columns\u001b[39m=\u001b[39;49mcolumns\n\u001b[1;32m    322\u001b[0m )\n\u001b[1;32m    324\u001b[0m _check_values_indices_shape_match(values, index, columns)\n\u001b[1;32m    326\u001b[0m \u001b[39mif\u001b[39;00m typ \u001b[39m==\u001b[39m \u001b[39m\"\u001b[39m\u001b[39marray\u001b[39m\u001b[39m\"\u001b[39m:\n",
      "File \u001b[0;32m~/anaconda3/envs/e2ml-env/lib/python3.9/site-packages/pandas/core/internals/construction.py:697\u001b[0m, in \u001b[0;36m_get_axes\u001b[0;34m(N, K, index, columns)\u001b[0m\n\u001b[1;32m    695\u001b[0m     index \u001b[39m=\u001b[39m ibase\u001b[39m.\u001b[39mdefault_index(N)\n\u001b[1;32m    696\u001b[0m \u001b[39melse\u001b[39;00m:\n\u001b[0;32m--> 697\u001b[0m     index \u001b[39m=\u001b[39m ensure_index(index)\n\u001b[1;32m    699\u001b[0m \u001b[39mif\u001b[39;00m columns \u001b[39mis\u001b[39;00m \u001b[39mNone\u001b[39;00m:\n\u001b[1;32m    700\u001b[0m     columns \u001b[39m=\u001b[39m ibase\u001b[39m.\u001b[39mdefault_index(K)\n",
      "File \u001b[0;32m~/anaconda3/envs/e2ml-env/lib/python3.9/site-packages/pandas/core/indexes/base.py:6336\u001b[0m, in \u001b[0;36mensure_index\u001b[0;34m(index_like, copy)\u001b[0m\n\u001b[1;32m   6333\u001b[0m         \u001b[39mreturn\u001b[39;00m Index(index_like, copy\u001b[39m=\u001b[39mcopy, tupleize_cols\u001b[39m=\u001b[39m\u001b[39mFalse\u001b[39;00m)\n\u001b[1;32m   6334\u001b[0m \u001b[39melse\u001b[39;00m:\n\u001b[0;32m-> 6336\u001b[0m     \u001b[39mreturn\u001b[39;00m Index(index_like, copy\u001b[39m=\u001b[39;49mcopy)\n",
      "File \u001b[0;32m~/anaconda3/envs/e2ml-env/lib/python3.9/site-packages/pandas/core/indexes/base.py:474\u001b[0m, in \u001b[0;36mIndex.__new__\u001b[0;34m(cls, data, dtype, copy, name, tupleize_cols, **kwargs)\u001b[0m\n\u001b[1;32m    471\u001b[0m     \u001b[39mreturn\u001b[39;00m klass\u001b[39m.\u001b[39m_simple_new(arr, name)\n\u001b[1;32m    473\u001b[0m \u001b[39melif\u001b[39;00m is_scalar(data):\n\u001b[0;32m--> 474\u001b[0m     \u001b[39mraise\u001b[39;00m \u001b[39mcls\u001b[39m\u001b[39m.\u001b[39m_scalar_data_error(data)\n\u001b[1;32m    475\u001b[0m \u001b[39melif\u001b[39;00m \u001b[39mhasattr\u001b[39m(data, \u001b[39m\"\u001b[39m\u001b[39m__array__\u001b[39m\u001b[39m\"\u001b[39m):\n\u001b[1;32m    476\u001b[0m     \u001b[39mreturn\u001b[39;00m Index(np\u001b[39m.\u001b[39masarray(data), dtype\u001b[39m=\u001b[39mdtype, copy\u001b[39m=\u001b[39mcopy, name\u001b[39m=\u001b[39mname, \u001b[39m*\u001b[39m\u001b[39m*\u001b[39mkwargs)\n",
      "\u001b[0;31mTypeError\u001b[0m: Index(...) must be called with a collection of some kind, False was passed"
     ]
    }
   ],
   "source": [
    "# Reconstruct design matrix\n",
    "X_rec = scaler.inverse_transform(X_latin)\n",
    "\n",
    "design_df = pd.DataFrame(data=X_rec, columns=X.columns, index=False)\n",
    "design_df['Sex'] = design_df['Sex'].astype(int)\n",
    "\n",
    "# Decode nominal features\n",
    "design_df['Sex'] = lbl_encoder.inverse_transform(design_df['Sex'])\n"
   ]
  },
  {
   "cell_type": "code",
   "execution_count": null,
   "id": "b0d6759d",
   "metadata": {},
   "outputs": [
    {
     "data": {
      "text/plain": [
       "(214, 8)"
      ]
     },
     "execution_count": 8,
     "metadata": {},
     "output_type": "execute_result"
    }
   ],
   "source": [
    "# Remove rows with values < 0\n",
    "numerical_cols = ['Length', 'Width', 'Height', 'Weight', 'Non_Shell Weight', 'Intestine Weight', 'Shell Weight']\n",
    "count = 0\n",
    "for col in numerical_cols:\n",
    "    design_df = design_df[design_df[col] >= 0]\n",
    "\n",
    "design_df.shape"
   ]
  },
  {
   "cell_type": "code",
   "execution_count": null,
   "id": "41579e80",
   "metadata": {},
   "outputs": [
    {
     "data": {
      "text/plain": [
       "<matplotlib.collections.PathCollection at 0x7fe8693985e0>"
      ]
     },
     "execution_count": 9,
     "metadata": {},
     "output_type": "execute_result"
    },
    {
     "data": {
      "image/png": "[encoded data removed]",
      "text/plain": [
       "<Figure size 700x700 with 1 Axes>"
      ]
     },
     "metadata": {},
     "output_type": "display_data"
    }
   ],
   "source": [
    "# Plot new generated samples\n",
    "x = X.iloc[:, 3]\n",
    "x_gen = X_rec[:, 3]\n",
    "y  = X_rec[:, 2]\n",
    "\n",
    "plt.figure(figsize=(7,7))\n",
    "plt.scatter(x_gen, np.zeros_like(x_gen), c='blue')\n",
    "plt.scatter(x, np.zeros_like(x), c='red')"
   ]
  },
  {
   "cell_type": "code",
   "execution_count": 28,
   "id": "9a6de705",
   "metadata": {},
   "outputs": [],
   "source": [
    "# Drop last 4 samples to obtain exactly 210 samples\n",
    "result = design_df.iloc[:210, :]\n",
    "\n",
    "# Save to csv file\n",
    "result.to_csv('../data/DoE_Albayrak_01.csv', index=False)"
   ]
  },
  {
   "cell_type": "code",
   "execution_count": 29,
   "id": "307a28ba",
   "metadata": {},
   "outputs": [
    {
     "name": "stdout",
     "output_type": "stream",
     "text": [
      "(73, 8)\n",
      "(75, 8)\n",
      "(62, 8)\n"
     ]
    }
   ],
   "source": [
    "print(result[result.Sex == 'M'].shape)\n",
    "print(result[result.Sex == 'F'].shape)\n",
    "print(result[result.Sex == 'I'].shape)"
   ]
  }
 ],
 "metadata": {
  "kernelspec": {
   "display_name": "Python 3 (ipykernel)",
   "language": "python",
   "name": "python3"
  },
  "language_info": {
   "codemirror_mode": {
    "name": "ipython",
    "version": 3
   },
   "file_extension": ".py",
   "mimetype": "text/x-python",
   "name": "python",
   "nbconvert_exporter": "python",
   "pygments_lexer": "ipython3",
   "version": "3.9.16"
  }
 },
 "nbformat": 4,
 "nbformat_minor": 5
}
